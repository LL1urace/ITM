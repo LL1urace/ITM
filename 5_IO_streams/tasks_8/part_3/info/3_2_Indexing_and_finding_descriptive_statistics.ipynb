{
  "cells": [
    {
      "cell_type": "code",
      "execution_count": null,
      "metadata": {
        "id": "PfdoLcS3EwRy"
      },
      "outputs": [],
      "source": [
        "import numpy as np\n",
        "import pandas as pd\n",
        "import matplotlib.pyplot as plt\n",
        "import seaborn as sns"
      ]
    },
    {
      "cell_type": "code",
      "execution_count": null,
      "metadata": {
        "id": "d22KNov4EwR0"
      },
      "outputs": [],
      "source": [
        "df = pd.read_csv('https://drive.google.com/uc?export=download&id=1GztFVF32hUQkzDD-kHfH37vstbvwKJwp')"
      ]
    },
    {
      "cell_type": "code",
      "execution_count": null,
      "metadata": {
        "id": "eHMliPl1EwR1",
        "outputId": "1759fdd7-d5d6-4aee-f7f3-8f4379402b44"
      },
      "outputs": [
        {
          "data": {
            "text/html": [
              "<div>\n",
              "<style scoped>\n",
              "    .dataframe tbody tr th:only-of-type {\n",
              "        vertical-align: middle;\n",
              "    }\n",
              "\n",
              "    .dataframe tbody tr th {\n",
              "        vertical-align: top;\n",
              "    }\n",
              "\n",
              "    .dataframe thead th {\n",
              "        text-align: right;\n",
              "    }\n",
              "</style>\n",
              "<table border=\"1\" class=\"dataframe\">\n",
              "  <thead>\n",
              "    <tr style=\"text-align: right;\">\n",
              "      <th></th>\n",
              "      <th>Email</th>\n",
              "      <th>Address</th>\n",
              "      <th>Avatar</th>\n",
              "      <th>Avg. Session Length</th>\n",
              "      <th>Time on App</th>\n",
              "      <th>Time on Website</th>\n",
              "      <th>Length of Membership</th>\n",
              "      <th>Yearly Amount Spent</th>\n",
              "    </tr>\n",
              "  </thead>\n",
              "  <tbody>\n",
              "    <tr>\n",
              "      <th>0</th>\n",
              "      <td>mstephenson@fernandez.com</td>\n",
              "      <td>835 Frank Tunnel\\nWrightmouth, MI 82180-9605</td>\n",
              "      <td>Violet</td>\n",
              "      <td>34.497268</td>\n",
              "      <td>12.655651</td>\n",
              "      <td>39.577668</td>\n",
              "      <td>4.082621</td>\n",
              "      <td>587.951054</td>\n",
              "    </tr>\n",
              "    <tr>\n",
              "      <th>1</th>\n",
              "      <td>hduke@hotmail.com</td>\n",
              "      <td>4547 Archer Common\\nDiazchester, CA 06566-8576</td>\n",
              "      <td>DarkGreen</td>\n",
              "      <td>31.926272</td>\n",
              "      <td>11.109461</td>\n",
              "      <td>37.268959</td>\n",
              "      <td>2.664034</td>\n",
              "      <td>392.204933</td>\n",
              "    </tr>\n",
              "    <tr>\n",
              "      <th>2</th>\n",
              "      <td>pallen@yahoo.com</td>\n",
              "      <td>24645 Valerie Unions Suite 582\\nCobbborough, D...</td>\n",
              "      <td>Bisque</td>\n",
              "      <td>33.000915</td>\n",
              "      <td>11.330278</td>\n",
              "      <td>37.110597</td>\n",
              "      <td>4.104543</td>\n",
              "      <td>487.547505</td>\n",
              "    </tr>\n",
              "    <tr>\n",
              "      <th>3</th>\n",
              "      <td>riverarebecca@gmail.com</td>\n",
              "      <td>1414 David Throughway\\nPort Jason, OH 22070-1220</td>\n",
              "      <td>SaddleBrown</td>\n",
              "      <td>34.305557</td>\n",
              "      <td>13.717514</td>\n",
              "      <td>36.721283</td>\n",
              "      <td>3.120179</td>\n",
              "      <td>581.852344</td>\n",
              "    </tr>\n",
              "    <tr>\n",
              "      <th>4</th>\n",
              "      <td>mstephens@davidson-herman.com</td>\n",
              "      <td>14023 Rodriguez Passage\\nPort Jacobville, PR 3...</td>\n",
              "      <td>MediumAquaMarine</td>\n",
              "      <td>33.330673</td>\n",
              "      <td>12.795189</td>\n",
              "      <td>37.536653</td>\n",
              "      <td>4.446308</td>\n",
              "      <td>599.406092</td>\n",
              "    </tr>\n",
              "  </tbody>\n",
              "</table>\n",
              "</div>"
            ],
            "text/plain": [
              "                           Email  \\\n",
              "0      mstephenson@fernandez.com   \n",
              "1              hduke@hotmail.com   \n",
              "2               pallen@yahoo.com   \n",
              "3        riverarebecca@gmail.com   \n",
              "4  mstephens@davidson-herman.com   \n",
              "\n",
              "                                             Address            Avatar  \\\n",
              "0       835 Frank Tunnel\\nWrightmouth, MI 82180-9605            Violet   \n",
              "1     4547 Archer Common\\nDiazchester, CA 06566-8576         DarkGreen   \n",
              "2  24645 Valerie Unions Suite 582\\nCobbborough, D...            Bisque   \n",
              "3   1414 David Throughway\\nPort Jason, OH 22070-1220       SaddleBrown   \n",
              "4  14023 Rodriguez Passage\\nPort Jacobville, PR 3...  MediumAquaMarine   \n",
              "\n",
              "   Avg. Session Length  Time on App  Time on Website  Length of Membership  \\\n",
              "0            34.497268    12.655651        39.577668              4.082621   \n",
              "1            31.926272    11.109461        37.268959              2.664034   \n",
              "2            33.000915    11.330278        37.110597              4.104543   \n",
              "3            34.305557    13.717514        36.721283              3.120179   \n",
              "4            33.330673    12.795189        37.536653              4.446308   \n",
              "\n",
              "   Yearly Amount Spent  \n",
              "0           587.951054  \n",
              "1           392.204933  \n",
              "2           487.547505  \n",
              "3           581.852344  \n",
              "4           599.406092  "
            ]
          },
          "execution_count": 4,
          "metadata": {},
          "output_type": "execute_result"
        }
      ],
      "source": [
        "df.head()"
      ]
    },
    {
      "cell_type": "code",
      "execution_count": null,
      "metadata": {
        "id": "7hPitFN5EwR1"
      },
      "outputs": [],
      "source": [
        "df['Avg. Session Length Rounded'] = df['Avg. Session Length'].round()"
      ]
    },
    {
      "cell_type": "markdown",
      "metadata": {
        "id": "3IsQg2CUEwR2"
      },
      "source": [
        "## Работа со столбцами"
      ]
    },
    {
      "cell_type": "markdown",
      "metadata": {
        "id": "E8iB82loEwR3"
      },
      "source": [
        "### Обращение к столбцам"
      ]
    },
    {
      "cell_type": "markdown",
      "metadata": {
        "id": "XX9Kuhx4EwR4"
      },
      "source": [
        "Pandas был бы бесполезен, если бы с его помощью нельзя было бы обратиться к отдельным столбцам. К столбцам можно обращаться как заключая их названия в квадратные скобки, так и через точку"
      ]
    },
    {
      "cell_type": "code",
      "execution_count": null,
      "metadata": {
        "id": "M9CUixmNEwR4",
        "outputId": "b5c76ad9-6bc9-4cee-b4f9-c5f84a0df52f"
      },
      "outputs": [
        {
          "data": {
            "text/plain": [
              "0                Violet\n",
              "1             DarkGreen\n",
              "2                Bisque\n",
              "3           SaddleBrown\n",
              "4      MediumAquaMarine\n",
              "             ...       \n",
              "495                 Tan\n",
              "496       PaleVioletRed\n",
              "497            Cornsilk\n",
              "498                Teal\n",
              "499         DarkMagenta\n",
              "Name: Avatar, Length: 500, dtype: object"
            ]
          },
          "execution_count": 6,
          "metadata": {},
          "output_type": "execute_result"
        }
      ],
      "source": [
        "df['Avatar']"
      ]
    },
    {
      "cell_type": "code",
      "execution_count": null,
      "metadata": {
        "id": "O_eaBd4jEwR5",
        "outputId": "4e7e0c78-1b7c-4144-9937-7dc6c87ad3d7"
      },
      "outputs": [
        {
          "data": {
            "text/plain": [
              "0                Violet\n",
              "1             DarkGreen\n",
              "2                Bisque\n",
              "3           SaddleBrown\n",
              "4      MediumAquaMarine\n",
              "             ...       \n",
              "495                 Tan\n",
              "496       PaleVioletRed\n",
              "497            Cornsilk\n",
              "498                Teal\n",
              "499         DarkMagenta\n",
              "Name: Avatar, Length: 500, dtype: object"
            ]
          },
          "execution_count": 7,
          "metadata": {},
          "output_type": "execute_result"
        }
      ],
      "source": [
        "df.Avatar"
      ]
    },
    {
      "cell_type": "markdown",
      "metadata": {
        "id": "E86PbaFJEwR5"
      },
      "source": [
        "### Получение базовой информации о столбцах"
      ]
    },
    {
      "cell_type": "markdown",
      "metadata": {
        "id": "tlb3YGD2EwR5"
      },
      "source": [
        "#### values и value_counts()"
      ]
    },
    {
      "cell_type": "markdown",
      "metadata": {
        "id": "i1atOTHKEwR5"
      },
      "source": [
        "С помощью __values__ можно узнать какие значения присутствуют в вашем столбце (с повторениями), а с помощью __value_counts()__ посмотреть, сколько раз какие значения встречаются."
      ]
    },
    {
      "cell_type": "code",
      "execution_count": null,
      "metadata": {
        "id": "jASg6w83EwR5",
        "outputId": "5d8463c3-5c1e-431c-8cd5-d3be1e497ec7"
      },
      "outputs": [
        {
          "data": {
            "text/plain": [
              "array(['Violet', 'DarkGreen', 'Bisque', 'SaddleBrown', 'MediumAquaMarine',\n",
              "       'FloralWhite', 'DarkSlateBlue', 'Aqua', 'Salmon', 'Brown',\n",
              "       'Tomato', 'Tomato', 'RoyalBlue', 'Bisque', 'DarkBlue', 'Peru',\n",
              "       'PowderBlue', 'OliveDrab', 'Cyan', 'LightSeaGreen', 'PeachPuff',\n",
              "       'Black', 'Olive', 'Silver', 'Wheat', 'Teal', 'Linen',\n",
              "       'MediumSlateBlue', 'LemonChiffon', 'DarkOrchid', 'SeaGreen',\n",
              "       'SteelBlue', 'DarkMagenta', 'DarkGoldenRod', 'DarkSeaGreen',\n",
              "       'Gainsboro', 'HotPink', 'LightSeaGreen', 'HoneyDew', 'WhiteSmoke',\n",
              "       'GhostWhite', 'DarkSlateBlue', 'Chocolate', 'HoneyDew', 'Snow',\n",
              "       'BurlyWood', 'Moccasin', 'BlueViolet', 'MediumBlue', 'GreenYellow',\n",
              "       'SandyBrown', 'MediumVioletRed', 'DarkBlue', 'SandyBrown',\n",
              "       'DarkOliveGreen', 'GreenYellow', 'DarkSalmon', 'DarkSeaGreen',\n",
              "       'DeepPink', 'Olive', 'SkyBlue', 'Magenta', 'DarkTurquoise',\n",
              "       'Silver', 'SpringGreen', 'OliveDrab', 'Aqua', 'OrangeRed',\n",
              "       'LimeGreen', 'SkyBlue', 'LightGreen', 'SandyBrown', 'Teal',\n",
              "       'LightYellow', 'MintCream', 'DimGray', 'Indigo', 'LightSalmon',\n",
              "       'GreenYellow', 'DeepSkyBlue', 'DarkGreen', 'LimeGreen',\n",
              "       'DarkGoldenRod', 'Turquoise', 'LightGreen', 'LightSteelBlue',\n",
              "       'Cornsilk', 'LemonChiffon', 'DarkKhaki', 'FireBrick',\n",
              "       'LightSeaGreen', 'SlateGray', 'Crimson', 'MidnightBlue',\n",
              "       'DarkGoldenRod', 'DarkCyan', 'SteelBlue', 'OldLace', 'MediumBlue',\n",
              "       'Gray', 'LightPink', 'BlanchedAlmond', 'Wheat', 'Aqua',\n",
              "       'BlueViolet', 'CadetBlue', 'PaleTurquoise', 'DimGray', 'Moccasin',\n",
              "       'Chartreuse', 'Khaki', 'MediumSpringGreen', 'LemonChiffon',\n",
              "       'PeachPuff', 'Lime', 'Tomato', 'SlateBlue', 'Orange', 'Fuchsia',\n",
              "       'GoldenRod', 'GreenYellow', 'ForestGreen', 'Moccasin', 'Indigo',\n",
              "       'SlateBlue', 'Cyan', 'MintCream', 'Lime', 'Moccasin', 'Green',\n",
              "       'LightSkyBlue', 'BlueViolet', 'Azure', 'LightGray', 'DarkCyan',\n",
              "       'GreenYellow', 'Crimson', 'MediumOrchid', 'Sienna', 'Aquamarine',\n",
              "       'FloralWhite', 'SlateBlue', 'Sienna', 'LimeGreen', 'Teal',\n",
              "       'WhiteSmoke', 'Purple', 'SlateGray', 'LightPink', 'LimeGreen',\n",
              "       'DarkSlateBlue', 'DimGray', 'CornflowerBlue', 'DarkSlateGray',\n",
              "       'MidnightBlue', 'LightSkyBlue', 'MediumBlue', 'Wheat',\n",
              "       'SpringGreen', 'DarkRed', 'Orange', 'LightGray', 'DarkViolet',\n",
              "       'LimeGreen', 'CadetBlue', 'DarkMagenta', 'ForestGreen',\n",
              "       'LightSkyBlue', 'MediumAquaMarine', 'Salmon', 'LavenderBlush',\n",
              "       'Green', 'SpringGreen', 'Navy', 'OliveDrab', 'LightSalmon',\n",
              "       'RosyBrown', 'DeepPink', 'Pink', 'LightGreen', 'GreenYellow',\n",
              "       'Sienna', 'DarkKhaki', 'LightGray', 'DarkRed', 'Aqua', 'Red',\n",
              "       'Lavender', 'DeepPink', 'White', 'MediumSeaGreen', 'MediumPurple',\n",
              "       'LightGreen', 'Tan', 'LawnGreen', 'LightSkyBlue', 'BurlyWood',\n",
              "       'Peru', 'Thistle', 'DarkMagenta', 'LemonChiffon',\n",
              "       'MediumVioletRed', 'Teal', 'SlateGray', 'Turquoise', 'Gainsboro',\n",
              "       'Orchid', 'Yellow', 'AntiqueWhite', 'AliceBlue', 'Tomato',\n",
              "       'PapayaWhip', 'MediumSeaGreen', 'BlueViolet', 'Tomato',\n",
              "       'DarkSlateGray', 'Gold', 'Moccasin', 'MediumSeaGreen',\n",
              "       'LightGreen', 'Orange', 'Cyan', 'SlateBlue', 'BlanchedAlmond',\n",
              "       'LavenderBlush', 'Navy', 'MediumBlue', 'Moccasin', 'CadetBlue',\n",
              "       'MediumTurquoise', 'DarkGreen', 'RoyalBlue', 'DarkGoldenRod',\n",
              "       'Thistle', 'White', 'MediumSpringGreen', 'WhiteSmoke', 'BurlyWood',\n",
              "       'YellowGreen', 'White', 'Cyan', 'SlateBlue', 'LightSkyBlue',\n",
              "       'DarkTurquoise', 'Gainsboro', 'LightCyan', 'LightCoral',\n",
              "       'Turquoise', 'DarkOliveGreen', 'Teal', 'DeepPink',\n",
              "       'MediumTurquoise', 'DarkCyan', 'PeachPuff', 'Aqua',\n",
              "       'MediumTurquoise', 'HotPink', 'SeaShell', 'Orange', 'CadetBlue',\n",
              "       'LightCoral', 'Orchid', 'Crimson', 'LightGoldenRodYellow',\n",
              "       'DarkGoldenRod', 'HotPink', 'Blue', 'Violet', 'Pink', 'SandyBrown',\n",
              "       'LightBlue', 'Gold', 'SteelBlue', 'FloralWhite', 'Green',\n",
              "       'PaleGoldenRod', 'Navy', 'Coral', 'DarkGreen', 'LightSteelBlue',\n",
              "       'Aquamarine', 'DarkViolet', 'MediumSpringGreen', 'OliveDrab',\n",
              "       'Purple', 'BlueViolet', 'RoyalBlue', 'DarkSeaGreen',\n",
              "       'AntiqueWhite', 'Blue', 'FloralWhite', 'Navy', 'DarkOrange',\n",
              "       'Aqua', 'Ivory', 'LavenderBlush', 'Cyan', 'Tan', 'PaleVioletRed',\n",
              "       'LightPink', 'Thistle', 'CadetBlue', 'AntiqueWhite', 'GhostWhite',\n",
              "       'DarkOrchid', 'DarkGray', 'Gainsboro', 'DarkSalmon', 'Ivory',\n",
              "       'MediumSlateBlue', 'Cyan', 'SeaGreen', 'Purple', 'LightBlue',\n",
              "       'Brown', 'Chocolate', 'Thistle', 'Purple', 'MistyRose', 'Indigo',\n",
              "       'Gold', 'PeachPuff', 'LightSalmon', 'DarkOrange', 'SlateBlue',\n",
              "       'MintCream', 'NavajoWhite', 'Tomato', 'DarkSeaGreen', 'Lavender',\n",
              "       'DodgerBlue', 'Wheat', 'MediumVioletRed', 'Magenta', 'SeaShell',\n",
              "       'HoneyDew', 'LightCyan', 'Khaki', 'Crimson', 'White', 'RoyalBlue',\n",
              "       'DarkViolet', 'DarkSeaGreen', 'Navy', 'Gray', 'Purple',\n",
              "       'RosyBrown', 'White', 'MediumTurquoise', 'Bisque', 'SaddleBrown',\n",
              "       'YellowGreen', 'LavenderBlush', 'IndianRed', 'DarkKhaki',\n",
              "       'SaddleBrown', 'Orchid', 'DarkCyan', 'Aquamarine', 'Brown',\n",
              "       'DarkMagenta', 'Cornsilk', 'LightSalmon', 'Chocolate',\n",
              "       'PaleVioletRed', 'Wheat', 'OldLace', 'SlateBlue', 'Orchid',\n",
              "       'MediumAquaMarine', 'SeaGreen', 'MediumSpringGreen',\n",
              "       'LightSeaGreen', 'DarkKhaki', 'SaddleBrown', 'Turquoise',\n",
              "       'AntiqueWhite', 'GoldenRod', 'Teal', 'Bisque', 'PaleGreen',\n",
              "       'RosyBrown', 'Crimson', 'Brown', 'Gold', 'SeaGreen', 'LightYellow',\n",
              "       'LemonChiffon', 'DarkOrange', 'LightCyan', 'Gray',\n",
              "       'MediumVioletRed', 'OrangeRed', 'DeepPink', 'DeepPink',\n",
              "       'GhostWhite', 'Green', 'CadetBlue', 'DarkOliveGreen', 'IndianRed',\n",
              "       'Snow', 'DarkSeaGreen', 'BlueViolet', 'OliveDrab',\n",
              "       'MediumSpringGreen', 'MediumSlateBlue', 'GhostWhite', 'Purple',\n",
              "       'SandyBrown', 'LightCyan', 'LightSalmon', 'Chartreuse',\n",
              "       'DarkGoldenRod', 'Cornsilk', 'Magenta', 'SaddleBrown',\n",
              "       'DarkViolet', 'Chocolate', 'DarkViolet', 'Magenta', 'HotPink',\n",
              "       'DodgerBlue', 'Turquoise', 'Blue', 'PaleVioletRed', 'MidnightBlue',\n",
              "       'BlanchedAlmond', 'Black', 'DodgerBlue', 'DarkGreen',\n",
              "       'BlanchedAlmond', 'Bisque', 'Cyan', 'Lavender', 'Violet',\n",
              "       'Fuchsia', 'MistyRose', 'CadetBlue', 'LightSteelBlue', 'Brown',\n",
              "       'Salmon', 'FireBrick', 'Lime', 'GreenYellow', 'DarkOrchid', 'Blue',\n",
              "       'Olive', 'Wheat', 'AliceBlue', 'OliveDrab', 'Linen',\n",
              "       'LightSlateGray', 'Indigo', 'Lime', 'SteelBlue', 'Olive',\n",
              "       'HoneyDew', 'MidnightBlue', 'DarkViolet', 'Sienna', 'Pink',\n",
              "       'LightSkyBlue', 'SaddleBrown', 'SteelBlue', 'Thistle',\n",
              "       'BlanchedAlmond', 'Turquoise', 'Orange', 'Beige', 'YellowGreen',\n",
              "       'SlateGray', 'Bisque', 'Orange', 'DimGray', 'MediumBlue',\n",
              "       'AntiqueWhite', 'Beige', 'Beige', 'PeachPuff', 'LightPink',\n",
              "       'WhiteSmoke', 'MediumOrchid', 'Olive', 'MistyRose', 'DarkRed',\n",
              "       'Pink', 'DarkGray', 'Orchid', 'PeachPuff', 'Magenta', 'GhostWhite',\n",
              "       'SeaShell', 'DarkBlue', 'MediumSeaGreen', 'DarkTurquoise', 'Tan',\n",
              "       'PaleVioletRed', 'Cornsilk', 'Teal', 'DarkMagenta'], dtype=object)"
            ]
          },
          "execution_count": 8,
          "metadata": {},
          "output_type": "execute_result"
        }
      ],
      "source": [
        "df['Avatar'].values"
      ]
    },
    {
      "cell_type": "code",
      "execution_count": null,
      "metadata": {
        "id": "_VBPwPaWEwR5",
        "outputId": "cfbb0942-395b-4daf-ad87-3b02e8c945d9"
      },
      "outputs": [
        {
          "data": {
            "text/plain": [
              "Avatar\n",
              "SlateBlue               7\n",
              "Cyan                    7\n",
              "CadetBlue               7\n",
              "GreenYellow             7\n",
              "Teal                    7\n",
              "                       ..\n",
              "MediumPurple            1\n",
              "CornflowerBlue          1\n",
              "LightGoldenRodYellow    1\n",
              "PowderBlue              1\n",
              "LawnGreen               1\n",
              "Name: count, Length: 138, dtype: int64"
            ]
          },
          "execution_count": 9,
          "metadata": {},
          "output_type": "execute_result"
        }
      ],
      "source": [
        "df['Avatar'].value_counts()"
      ]
    },
    {
      "cell_type": "markdown",
      "metadata": {
        "id": "G4j8VJHrEwR6"
      },
      "source": [
        "#### unique"
      ]
    },
    {
      "cell_type": "markdown",
      "metadata": {
        "id": "NqsnJIozEwR6"
      },
      "source": [
        "С помощью __unique()__ можно узнать уникальные значения, встречающиеся в вашем столбце"
      ]
    },
    {
      "cell_type": "code",
      "execution_count": null,
      "metadata": {
        "id": "onCGTpQ2EwR6",
        "outputId": "a35951fa-6a12-4877-8865-a45a53855a5d"
      },
      "outputs": [
        {
          "data": {
            "text/plain": [
              "array(['Violet', 'DarkGreen', 'Bisque', 'SaddleBrown', 'MediumAquaMarine',\n",
              "       'FloralWhite', 'DarkSlateBlue', 'Aqua', 'Salmon', 'Brown',\n",
              "       'Tomato', 'RoyalBlue', 'DarkBlue', 'Peru', 'PowderBlue',\n",
              "       'OliveDrab', 'Cyan', 'LightSeaGreen', 'PeachPuff', 'Black',\n",
              "       'Olive', 'Silver', 'Wheat', 'Teal', 'Linen', 'MediumSlateBlue',\n",
              "       'LemonChiffon', 'DarkOrchid', 'SeaGreen', 'SteelBlue',\n",
              "       'DarkMagenta', 'DarkGoldenRod', 'DarkSeaGreen', 'Gainsboro',\n",
              "       'HotPink', 'HoneyDew', 'WhiteSmoke', 'GhostWhite', 'Chocolate',\n",
              "       'Snow', 'BurlyWood', 'Moccasin', 'BlueViolet', 'MediumBlue',\n",
              "       'GreenYellow', 'SandyBrown', 'MediumVioletRed', 'DarkOliveGreen',\n",
              "       'DarkSalmon', 'DeepPink', 'SkyBlue', 'Magenta', 'DarkTurquoise',\n",
              "       'SpringGreen', 'OrangeRed', 'LimeGreen', 'LightGreen',\n",
              "       'LightYellow', 'MintCream', 'DimGray', 'Indigo', 'LightSalmon',\n",
              "       'DeepSkyBlue', 'Turquoise', 'LightSteelBlue', 'Cornsilk',\n",
              "       'DarkKhaki', 'FireBrick', 'SlateGray', 'Crimson', 'MidnightBlue',\n",
              "       'DarkCyan', 'OldLace', 'Gray', 'LightPink', 'BlanchedAlmond',\n",
              "       'CadetBlue', 'PaleTurquoise', 'Chartreuse', 'Khaki',\n",
              "       'MediumSpringGreen', 'Lime', 'SlateBlue', 'Orange', 'Fuchsia',\n",
              "       'GoldenRod', 'ForestGreen', 'Green', 'LightSkyBlue', 'Azure',\n",
              "       'LightGray', 'MediumOrchid', 'Sienna', 'Aquamarine', 'Purple',\n",
              "       'CornflowerBlue', 'DarkSlateGray', 'DarkRed', 'DarkViolet',\n",
              "       'LavenderBlush', 'Navy', 'RosyBrown', 'Pink', 'Red', 'Lavender',\n",
              "       'White', 'MediumSeaGreen', 'MediumPurple', 'Tan', 'LawnGreen',\n",
              "       'Thistle', 'Orchid', 'Yellow', 'AntiqueWhite', 'AliceBlue',\n",
              "       'PapayaWhip', 'Gold', 'MediumTurquoise', 'YellowGreen',\n",
              "       'LightCyan', 'LightCoral', 'SeaShell', 'LightGoldenRodYellow',\n",
              "       'Blue', 'LightBlue', 'PaleGoldenRod', 'Coral', 'DarkOrange',\n",
              "       'Ivory', 'PaleVioletRed', 'DarkGray', 'MistyRose', 'NavajoWhite',\n",
              "       'DodgerBlue', 'IndianRed', 'PaleGreen', 'LightSlateGray', 'Beige'],\n",
              "      dtype=object)"
            ]
          },
          "execution_count": 45,
          "metadata": {},
          "output_type": "execute_result"
        }
      ],
      "source": [
        "df['Avatar'].unique()"
      ]
    },
    {
      "cell_type": "markdown",
      "metadata": {
        "id": "Yvdk8oatEwR6"
      },
      "source": [
        "## Индексирование"
      ]
    },
    {
      "cell_type": "markdown",
      "metadata": {
        "id": "BLwHF5b5EwR6"
      },
      "source": [
        "Перейдем к двум очень важным для понимания свойствам – __loc[]__ и __iloc[]__. Они позволяют обращаться к определенным строкам (или даже значениям), но имеют несколько принципиальных отличий\n",
        "\n"
      ]
    },
    {
      "cell_type": "markdown",
      "metadata": {
        "id": "OkFNT6pHEwR6"
      },
      "source": [
        "### loc[]"
      ]
    },
    {
      "cell_type": "markdown",
      "metadata": {
        "id": "OHwHar8VEwR6"
      },
      "source": [
        "С помощью __loc__ можно обращаться к определенным строкам (или значениям) по именам индексов и столбцов. В квадратных скобках вы пишете название строки и название столбца через запятую\n",
        "\n",
        "Это свойство будет тяжело понять на датасете этого урока (так как тут числовые индексы, хотя с числовыми индексами loc тоже работает), поэтому по-быстрому сделаем новую таблицу."
      ]
    },
    {
      "cell_type": "code",
      "execution_count": null,
      "metadata": {
        "id": "JfioQ4zMEwR6",
        "outputId": "9346c2b9-568e-4328-d8db-edd1a74e9aab"
      },
      "outputs": [
        {
          "data": {
            "text/html": [
              "<div>\n",
              "<style scoped>\n",
              "    .dataframe tbody tr th:only-of-type {\n",
              "        vertical-align: middle;\n",
              "    }\n",
              "\n",
              "    .dataframe tbody tr th {\n",
              "        vertical-align: top;\n",
              "    }\n",
              "\n",
              "    .dataframe thead th {\n",
              "        text-align: right;\n",
              "    }\n",
              "</style>\n",
              "<table border=\"1\" class=\"dataframe\">\n",
              "  <thead>\n",
              "    <tr style=\"text-align: right;\">\n",
              "      <th></th>\n",
              "      <th>Name</th>\n",
              "      <th>Age</th>\n",
              "      <th>Salary</th>\n",
              "      <th>Occupation</th>\n",
              "    </tr>\n",
              "  </thead>\n",
              "  <tbody>\n",
              "    <tr>\n",
              "      <th>a</th>\n",
              "      <td>Anna</td>\n",
              "      <td>28</td>\n",
              "      <td>1000</td>\n",
              "      <td>Data Scientist</td>\n",
              "    </tr>\n",
              "    <tr>\n",
              "      <th>b</th>\n",
              "      <td>Boris</td>\n",
              "      <td>34</td>\n",
              "      <td>1500</td>\n",
              "      <td>Data Analyst</td>\n",
              "    </tr>\n",
              "    <tr>\n",
              "      <th>c</th>\n",
              "      <td>Polina</td>\n",
              "      <td>27</td>\n",
              "      <td>1800</td>\n",
              "      <td>Data Engineer</td>\n",
              "    </tr>\n",
              "  </tbody>\n",
              "</table>\n",
              "</div>"
            ],
            "text/plain": [
              "     Name  Age  Salary      Occupation\n",
              "a    Anna   28    1000  Data Scientist\n",
              "b   Boris   34    1500    Data Analyst\n",
              "c  Polina   27    1800   Data Engineer"
            ]
          },
          "execution_count": 10,
          "metadata": {},
          "output_type": "execute_result"
        }
      ],
      "source": [
        "data = {'Name': ['Anna', 'Boris', 'Polina'], 'Age': [28, 34, 27], 'Salary' : [1000, 1500, 1800], 'Occupation' : ['Data Scientist', 'Data Analyst', 'Data Engineer']}\n",
        "df2 = pd.DataFrame(data, index=['a', 'b', 'c'])\n",
        "df2"
      ]
    },
    {
      "cell_type": "markdown",
      "metadata": {
        "id": "5KOb5MavEwR6"
      },
      "source": [
        "Узнаем имя человека, записанного в строке 'b':"
      ]
    },
    {
      "cell_type": "code",
      "execution_count": null,
      "metadata": {
        "id": "mxOLhdPOEwR6",
        "outputId": "e36b3cbc-0f55-4b91-8a2c-996c620fb794"
      },
      "outputs": [
        {
          "data": {
            "text/plain": [
              "'Boris'"
            ]
          },
          "execution_count": 11,
          "metadata": {},
          "output_type": "execute_result"
        }
      ],
      "source": [
        "df2.loc['b', 'Name']"
      ]
    },
    {
      "cell_type": "markdown",
      "metadata": {
        "id": "PiLeLxXCEwR7"
      },
      "source": [
        "В __loc__ можно работать со срезами как в индексе, так и в столбцах – обратите внимание, что здесь они __включают__ последнее значение. Если захотите посмотреть все строки, но какой-то определенный столбец (проще сделать это через обращение к столбцу, но ладно), то вместо имени строки пишите двоеточие – я называю это «срез, который ничего толком и не срезает»."
      ]
    },
    {
      "cell_type": "code",
      "execution_count": null,
      "metadata": {
        "id": "XPwEFBqfEwR7",
        "outputId": "65061eaf-e752-4af8-cb82-d2cb7d5e5f0d"
      },
      "outputs": [
        {
          "data": {
            "text/html": [
              "<div>\n",
              "<style scoped>\n",
              "    .dataframe tbody tr th:only-of-type {\n",
              "        vertical-align: middle;\n",
              "    }\n",
              "\n",
              "    .dataframe tbody tr th {\n",
              "        vertical-align: top;\n",
              "    }\n",
              "\n",
              "    .dataframe thead th {\n",
              "        text-align: right;\n",
              "    }\n",
              "</style>\n",
              "<table border=\"1\" class=\"dataframe\">\n",
              "  <thead>\n",
              "    <tr style=\"text-align: right;\">\n",
              "      <th></th>\n",
              "      <th>Name</th>\n",
              "      <th>Age</th>\n",
              "      <th>Salary</th>\n",
              "    </tr>\n",
              "  </thead>\n",
              "  <tbody>\n",
              "    <tr>\n",
              "      <th>b</th>\n",
              "      <td>Boris</td>\n",
              "      <td>34</td>\n",
              "      <td>1500</td>\n",
              "    </tr>\n",
              "    <tr>\n",
              "      <th>c</th>\n",
              "      <td>Polina</td>\n",
              "      <td>27</td>\n",
              "      <td>1800</td>\n",
              "    </tr>\n",
              "  </tbody>\n",
              "</table>\n",
              "</div>"
            ],
            "text/plain": [
              "     Name  Age  Salary\n",
              "b   Boris   34    1500\n",
              "c  Polina   27    1800"
            ]
          },
          "execution_count": 12,
          "metadata": {},
          "output_type": "execute_result"
        }
      ],
      "source": [
        "df2.loc['b':'c', 'Name':'Salary']"
      ]
    },
    {
      "cell_type": "code",
      "execution_count": null,
      "metadata": {
        "id": "WRH3zeXIEwR7",
        "outputId": "b0a4b574-814e-4423-c8e7-57ac1015a3ac"
      },
      "outputs": [
        {
          "data": {
            "text/plain": [
              "a    1000\n",
              "b    1500\n",
              "c    1800\n",
              "Name: Salary, dtype: int64"
            ]
          },
          "execution_count": 13,
          "metadata": {},
          "output_type": "execute_result"
        }
      ],
      "source": [
        "df2.loc[:, 'Salary']"
      ]
    },
    {
      "cell_type": "markdown",
      "metadata": {
        "id": "fynt795QEwR7"
      },
      "source": [
        "Если вы хотите посмотреть какие-то строки (или столбики), которые друг за другом не идут – используйте списки"
      ]
    },
    {
      "cell_type": "code",
      "execution_count": null,
      "metadata": {
        "id": "gnu06cTHEwR7",
        "outputId": "6790f179-29ff-4e77-d6a6-374dfe4bccd5"
      },
      "outputs": [
        {
          "data": {
            "text/html": [
              "<div>\n",
              "<style scoped>\n",
              "    .dataframe tbody tr th:only-of-type {\n",
              "        vertical-align: middle;\n",
              "    }\n",
              "\n",
              "    .dataframe tbody tr th {\n",
              "        vertical-align: top;\n",
              "    }\n",
              "\n",
              "    .dataframe thead th {\n",
              "        text-align: right;\n",
              "    }\n",
              "</style>\n",
              "<table border=\"1\" class=\"dataframe\">\n",
              "  <thead>\n",
              "    <tr style=\"text-align: right;\">\n",
              "      <th></th>\n",
              "      <th>Name</th>\n",
              "      <th>Occupation</th>\n",
              "    </tr>\n",
              "  </thead>\n",
              "  <tbody>\n",
              "    <tr>\n",
              "      <th>a</th>\n",
              "      <td>Anna</td>\n",
              "      <td>Data Scientist</td>\n",
              "    </tr>\n",
              "    <tr>\n",
              "      <th>c</th>\n",
              "      <td>Polina</td>\n",
              "      <td>Data Engineer</td>\n",
              "    </tr>\n",
              "  </tbody>\n",
              "</table>\n",
              "</div>"
            ],
            "text/plain": [
              "     Name      Occupation\n",
              "a    Anna  Data Scientist\n",
              "c  Polina   Data Engineer"
            ]
          },
          "execution_count": 14,
          "metadata": {},
          "output_type": "execute_result"
        }
      ],
      "source": [
        "df2.loc[['a', 'c'], ['Name', 'Occupation']]"
      ]
    },
    {
      "cell_type": "markdown",
      "metadata": {
        "id": "spjggiqsEwR7"
      },
      "source": [
        "### iloc[]"
      ]
    },
    {
      "cell_type": "markdown",
      "metadata": {
        "id": "XHPiFg9cEwR7"
      },
      "source": [
        "__iloc[]__, в отличие от loc, выбирает данные по их числовым позициям (индексам), и не будет работать с названиями строк/столбцов. Еще одно большое отличие – срезы не включают последнее значение. В остальном свойство идентично loc'у."
      ]
    },
    {
      "cell_type": "code",
      "execution_count": null,
      "metadata": {
        "id": "Su9EFfudEwR7",
        "outputId": "a023d369-5e40-4e70-e1a4-e8e92d5eb0b3"
      },
      "outputs": [
        {
          "data": {
            "text/html": [
              "<div>\n",
              "<style scoped>\n",
              "    .dataframe tbody tr th:only-of-type {\n",
              "        vertical-align: middle;\n",
              "    }\n",
              "\n",
              "    .dataframe tbody tr th {\n",
              "        vertical-align: top;\n",
              "    }\n",
              "\n",
              "    .dataframe thead th {\n",
              "        text-align: right;\n",
              "    }\n",
              "</style>\n",
              "<table border=\"1\" class=\"dataframe\">\n",
              "  <thead>\n",
              "    <tr style=\"text-align: right;\">\n",
              "      <th></th>\n",
              "      <th>Email</th>\n",
              "      <th>Address</th>\n",
              "      <th>Avatar</th>\n",
              "      <th>Avg. Session Length</th>\n",
              "      <th>Time on App</th>\n",
              "      <th>Time on Website</th>\n",
              "      <th>Length of Membership</th>\n",
              "      <th>Yearly Amount Spent</th>\n",
              "      <th>Avg. Session Length Rounded</th>\n",
              "    </tr>\n",
              "  </thead>\n",
              "  <tbody>\n",
              "    <tr>\n",
              "      <th>0</th>\n",
              "      <td>mstephenson@fernandez.com</td>\n",
              "      <td>835 Frank Tunnel\\nWrightmouth, MI 82180-9605</td>\n",
              "      <td>Violet</td>\n",
              "      <td>34.497268</td>\n",
              "      <td>12.655651</td>\n",
              "      <td>39.577668</td>\n",
              "      <td>4.082621</td>\n",
              "      <td>587.951054</td>\n",
              "      <td>34.0</td>\n",
              "    </tr>\n",
              "    <tr>\n",
              "      <th>1</th>\n",
              "      <td>hduke@hotmail.com</td>\n",
              "      <td>4547 Archer Common\\nDiazchester, CA 06566-8576</td>\n",
              "      <td>DarkGreen</td>\n",
              "      <td>31.926272</td>\n",
              "      <td>11.109461</td>\n",
              "      <td>37.268959</td>\n",
              "      <td>2.664034</td>\n",
              "      <td>392.204933</td>\n",
              "      <td>32.0</td>\n",
              "    </tr>\n",
              "  </tbody>\n",
              "</table>\n",
              "</div>"
            ],
            "text/plain": [
              "                       Email                                         Address  \\\n",
              "0  mstephenson@fernandez.com    835 Frank Tunnel\\nWrightmouth, MI 82180-9605   \n",
              "1          hduke@hotmail.com  4547 Archer Common\\nDiazchester, CA 06566-8576   \n",
              "\n",
              "      Avatar  Avg. Session Length  Time on App  Time on Website  \\\n",
              "0     Violet            34.497268    12.655651        39.577668   \n",
              "1  DarkGreen            31.926272    11.109461        37.268959   \n",
              "\n",
              "   Length of Membership  Yearly Amount Spent  Avg. Session Length Rounded  \n",
              "0              4.082621           587.951054                         34.0  \n",
              "1              2.664034           392.204933                         32.0  "
            ]
          },
          "execution_count": 15,
          "metadata": {},
          "output_type": "execute_result"
        }
      ],
      "source": [
        "df.iloc[0:2]"
      ]
    },
    {
      "cell_type": "code",
      "execution_count": null,
      "metadata": {
        "id": "DD_Jav8EEwR7",
        "outputId": "f39241d8-57d7-454e-fe82-bd260da20d9d"
      },
      "outputs": [
        {
          "data": {
            "text/html": [
              "<div>\n",
              "<style scoped>\n",
              "    .dataframe tbody tr th:only-of-type {\n",
              "        vertical-align: middle;\n",
              "    }\n",
              "\n",
              "    .dataframe tbody tr th {\n",
              "        vertical-align: top;\n",
              "    }\n",
              "\n",
              "    .dataframe thead th {\n",
              "        text-align: right;\n",
              "    }\n",
              "</style>\n",
              "<table border=\"1\" class=\"dataframe\">\n",
              "  <thead>\n",
              "    <tr style=\"text-align: right;\">\n",
              "      <th></th>\n",
              "      <th>Avatar</th>\n",
              "      <th>Avg. Session Length</th>\n",
              "      <th>Time on App</th>\n",
              "      <th>Time on Website</th>\n",
              "      <th>Length of Membership</th>\n",
              "    </tr>\n",
              "  </thead>\n",
              "  <tbody>\n",
              "    <tr>\n",
              "      <th>0</th>\n",
              "      <td>Violet</td>\n",
              "      <td>34.497268</td>\n",
              "      <td>12.655651</td>\n",
              "      <td>39.577668</td>\n",
              "      <td>4.082621</td>\n",
              "    </tr>\n",
              "    <tr>\n",
              "      <th>1</th>\n",
              "      <td>DarkGreen</td>\n",
              "      <td>31.926272</td>\n",
              "      <td>11.109461</td>\n",
              "      <td>37.268959</td>\n",
              "      <td>2.664034</td>\n",
              "    </tr>\n",
              "    <tr>\n",
              "      <th>2</th>\n",
              "      <td>Bisque</td>\n",
              "      <td>33.000915</td>\n",
              "      <td>11.330278</td>\n",
              "      <td>37.110597</td>\n",
              "      <td>4.104543</td>\n",
              "    </tr>\n",
              "    <tr>\n",
              "      <th>3</th>\n",
              "      <td>SaddleBrown</td>\n",
              "      <td>34.305557</td>\n",
              "      <td>13.717514</td>\n",
              "      <td>36.721283</td>\n",
              "      <td>3.120179</td>\n",
              "    </tr>\n",
              "    <tr>\n",
              "      <th>4</th>\n",
              "      <td>MediumAquaMarine</td>\n",
              "      <td>33.330673</td>\n",
              "      <td>12.795189</td>\n",
              "      <td>37.536653</td>\n",
              "      <td>4.446308</td>\n",
              "    </tr>\n",
              "    <tr>\n",
              "      <th>...</th>\n",
              "      <td>...</td>\n",
              "      <td>...</td>\n",
              "      <td>...</td>\n",
              "      <td>...</td>\n",
              "      <td>...</td>\n",
              "    </tr>\n",
              "    <tr>\n",
              "      <th>495</th>\n",
              "      <td>Tan</td>\n",
              "      <td>33.237660</td>\n",
              "      <td>13.566160</td>\n",
              "      <td>36.417985</td>\n",
              "      <td>3.746573</td>\n",
              "    </tr>\n",
              "    <tr>\n",
              "      <th>496</th>\n",
              "      <td>PaleVioletRed</td>\n",
              "      <td>34.702529</td>\n",
              "      <td>11.695736</td>\n",
              "      <td>37.190268</td>\n",
              "      <td>3.576526</td>\n",
              "    </tr>\n",
              "    <tr>\n",
              "      <th>497</th>\n",
              "      <td>Cornsilk</td>\n",
              "      <td>32.646777</td>\n",
              "      <td>11.499409</td>\n",
              "      <td>38.332576</td>\n",
              "      <td>4.958264</td>\n",
              "    </tr>\n",
              "    <tr>\n",
              "      <th>498</th>\n",
              "      <td>Teal</td>\n",
              "      <td>33.322501</td>\n",
              "      <td>12.391423</td>\n",
              "      <td>36.840086</td>\n",
              "      <td>2.336485</td>\n",
              "    </tr>\n",
              "    <tr>\n",
              "      <th>499</th>\n",
              "      <td>DarkMagenta</td>\n",
              "      <td>33.715981</td>\n",
              "      <td>12.418808</td>\n",
              "      <td>35.771016</td>\n",
              "      <td>2.735160</td>\n",
              "    </tr>\n",
              "  </tbody>\n",
              "</table>\n",
              "<p>500 rows × 5 columns</p>\n",
              "</div>"
            ],
            "text/plain": [
              "               Avatar  Avg. Session Length  Time on App  Time on Website  \\\n",
              "0              Violet            34.497268    12.655651        39.577668   \n",
              "1           DarkGreen            31.926272    11.109461        37.268959   \n",
              "2              Bisque            33.000915    11.330278        37.110597   \n",
              "3         SaddleBrown            34.305557    13.717514        36.721283   \n",
              "4    MediumAquaMarine            33.330673    12.795189        37.536653   \n",
              "..                ...                  ...          ...              ...   \n",
              "495               Tan            33.237660    13.566160        36.417985   \n",
              "496     PaleVioletRed            34.702529    11.695736        37.190268   \n",
              "497          Cornsilk            32.646777    11.499409        38.332576   \n",
              "498              Teal            33.322501    12.391423        36.840086   \n",
              "499       DarkMagenta            33.715981    12.418808        35.771016   \n",
              "\n",
              "     Length of Membership  \n",
              "0                4.082621  \n",
              "1                2.664034  \n",
              "2                4.104543  \n",
              "3                3.120179  \n",
              "4                4.446308  \n",
              "..                    ...  \n",
              "495              3.746573  \n",
              "496              3.576526  \n",
              "497              4.958264  \n",
              "498              2.336485  \n",
              "499              2.735160  \n",
              "\n",
              "[500 rows x 5 columns]"
            ]
          },
          "execution_count": 16,
          "metadata": {},
          "output_type": "execute_result"
        }
      ],
      "source": [
        "df.iloc[:, 2:7]"
      ]
    },
    {
      "cell_type": "code",
      "execution_count": null,
      "metadata": {
        "id": "Mibtho_4EwR7",
        "outputId": "35b892bd-b125-4ca5-ceaa-ae0399587fde"
      },
      "outputs": [
        {
          "data": {
            "text/html": [
              "<div>\n",
              "<style scoped>\n",
              "    .dataframe tbody tr th:only-of-type {\n",
              "        vertical-align: middle;\n",
              "    }\n",
              "\n",
              "    .dataframe tbody tr th {\n",
              "        vertical-align: top;\n",
              "    }\n",
              "\n",
              "    .dataframe thead th {\n",
              "        text-align: right;\n",
              "    }\n",
              "</style>\n",
              "<table border=\"1\" class=\"dataframe\">\n",
              "  <thead>\n",
              "    <tr style=\"text-align: right;\">\n",
              "      <th></th>\n",
              "      <th>Avg. Session Length</th>\n",
              "      <th>Time on App</th>\n",
              "      <th>Yearly Amount Spent</th>\n",
              "    </tr>\n",
              "  </thead>\n",
              "  <tbody>\n",
              "    <tr>\n",
              "      <th>2</th>\n",
              "      <td>33.000915</td>\n",
              "      <td>11.330278</td>\n",
              "      <td>487.547505</td>\n",
              "    </tr>\n",
              "    <tr>\n",
              "      <th>3</th>\n",
              "      <td>34.305557</td>\n",
              "      <td>13.717514</td>\n",
              "      <td>581.852344</td>\n",
              "    </tr>\n",
              "    <tr>\n",
              "      <th>4</th>\n",
              "      <td>33.330673</td>\n",
              "      <td>12.795189</td>\n",
              "      <td>599.406092</td>\n",
              "    </tr>\n",
              "    <tr>\n",
              "      <th>5</th>\n",
              "      <td>33.871038</td>\n",
              "      <td>12.026925</td>\n",
              "      <td>637.102448</td>\n",
              "    </tr>\n",
              "    <tr>\n",
              "      <th>6</th>\n",
              "      <td>32.021596</td>\n",
              "      <td>11.366348</td>\n",
              "      <td>521.572175</td>\n",
              "    </tr>\n",
              "    <tr>\n",
              "      <th>7</th>\n",
              "      <td>32.739143</td>\n",
              "      <td>12.351959</td>\n",
              "      <td>549.904146</td>\n",
              "    </tr>\n",
              "    <tr>\n",
              "      <th>8</th>\n",
              "      <td>33.987773</td>\n",
              "      <td>13.386235</td>\n",
              "      <td>570.200409</td>\n",
              "    </tr>\n",
              "    <tr>\n",
              "      <th>9</th>\n",
              "      <td>31.936549</td>\n",
              "      <td>11.814128</td>\n",
              "      <td>427.199385</td>\n",
              "    </tr>\n",
              "  </tbody>\n",
              "</table>\n",
              "</div>"
            ],
            "text/plain": [
              "   Avg. Session Length  Time on App  Yearly Amount Spent\n",
              "2            33.000915    11.330278           487.547505\n",
              "3            34.305557    13.717514           581.852344\n",
              "4            33.330673    12.795189           599.406092\n",
              "5            33.871038    12.026925           637.102448\n",
              "6            32.021596    11.366348           521.572175\n",
              "7            32.739143    12.351959           549.904146\n",
              "8            33.987773    13.386235           570.200409\n",
              "9            31.936549    11.814128           427.199385"
            ]
          },
          "execution_count": 17,
          "metadata": {},
          "output_type": "execute_result"
        }
      ],
      "source": [
        "df.iloc[2:10, [3, 4, 7]]"
      ]
    },
    {
      "cell_type": "markdown",
      "metadata": {
        "id": "WGNRe01fEwR7"
      },
      "source": [
        "### idxmin() и idxmax()"
      ]
    },
    {
      "cell_type": "markdown",
      "metadata": {
        "id": "ls7c3uVjEwR7"
      },
      "source": [
        "У loc и iloc хорошая совместимость с методами __idxmin()__ и __idxmax()__ – с помощью них можно узнать индекс наименьшей/наибольшей величины в каком-то столбце (или во всех сразу)."
      ]
    },
    {
      "cell_type": "code",
      "execution_count": null,
      "metadata": {
        "id": "yjv8xX3BEwR8",
        "outputId": "21eb2915-1625-4d90-a2a9-05008d022d2c"
      },
      "outputs": [
        {
          "data": {
            "text/plain": [
              "Email                          370\n",
              "Address                        299\n",
              "Avatar                         209\n",
              "Avg. Session Length             12\n",
              "Time on App                    309\n",
              "Time on Website                157\n",
              "Length of Membership           447\n",
              "Yearly Amount Spent            225\n",
              "Avg. Session Length Rounded     12\n",
              "dtype: int64"
            ]
          },
          "execution_count": 18,
          "metadata": {},
          "output_type": "execute_result"
        }
      ],
      "source": [
        "df.idxmin()"
      ]
    },
    {
      "cell_type": "code",
      "execution_count": null,
      "metadata": {
        "id": "L1uiTAoKEwR8",
        "outputId": "ed5b1cf2-783f-4d64-b3be-e627fdaa392c"
      },
      "outputs": [
        {
          "data": {
            "text/plain": [
              "154"
            ]
          },
          "execution_count": 19,
          "metadata": {},
          "output_type": "execute_result"
        }
      ],
      "source": [
        "df['Avg. Session Length'].idxmax()"
      ]
    },
    {
      "cell_type": "code",
      "execution_count": null,
      "metadata": {
        "id": "vfr3N6UYEwR8",
        "outputId": "e6fe97a9-9cd4-4bc3-eff8-e4b72dd1f50b"
      },
      "outputs": [
        {
          "data": {
            "text/html": [
              "<div>\n",
              "<style scoped>\n",
              "    .dataframe tbody tr th:only-of-type {\n",
              "        vertical-align: middle;\n",
              "    }\n",
              "\n",
              "    .dataframe tbody tr th {\n",
              "        vertical-align: top;\n",
              "    }\n",
              "\n",
              "    .dataframe thead th {\n",
              "        text-align: right;\n",
              "    }\n",
              "</style>\n",
              "<table border=\"1\" class=\"dataframe\">\n",
              "  <thead>\n",
              "    <tr style=\"text-align: right;\">\n",
              "      <th></th>\n",
              "      <th>Email</th>\n",
              "      <th>Address</th>\n",
              "      <th>Avatar</th>\n",
              "      <th>Avg. Session Length</th>\n",
              "      <th>Time on App</th>\n",
              "      <th>Time on Website</th>\n",
              "      <th>Length of Membership</th>\n",
              "      <th>Yearly Amount Spent</th>\n",
              "      <th>Avg. Session Length Rounded</th>\n",
              "    </tr>\n",
              "  </thead>\n",
              "  <tbody>\n",
              "    <tr>\n",
              "      <th>154</th>\n",
              "      <td>nathan86@hotmail.com</td>\n",
              "      <td>748 Michael Plaza\\nWest Billyside, UT 20799</td>\n",
              "      <td>MidnightBlue</td>\n",
              "      <td>36.139662</td>\n",
              "      <td>12.050267</td>\n",
              "      <td>36.959643</td>\n",
              "      <td>3.864861</td>\n",
              "      <td>595.803819</td>\n",
              "      <td>36.0</td>\n",
              "    </tr>\n",
              "    <tr>\n",
              "      <th>12</th>\n",
              "      <td>knelson@gmail.com</td>\n",
              "      <td>6705 Miller Orchard Suite 186\\nLake Shanestad,...</td>\n",
              "      <td>RoyalBlue</td>\n",
              "      <td>29.532429</td>\n",
              "      <td>10.961298</td>\n",
              "      <td>37.420216</td>\n",
              "      <td>4.046423</td>\n",
              "      <td>408.640351</td>\n",
              "      <td>30.0</td>\n",
              "    </tr>\n",
              "  </tbody>\n",
              "</table>\n",
              "</div>"
            ],
            "text/plain": [
              "                    Email                                            Address  \\\n",
              "154  nathan86@hotmail.com        748 Michael Plaza\\nWest Billyside, UT 20799   \n",
              "12      knelson@gmail.com  6705 Miller Orchard Suite 186\\nLake Shanestad,...   \n",
              "\n",
              "           Avatar  Avg. Session Length  Time on App  Time on Website  \\\n",
              "154  MidnightBlue            36.139662    12.050267        36.959643   \n",
              "12      RoyalBlue            29.532429    10.961298        37.420216   \n",
              "\n",
              "     Length of Membership  Yearly Amount Spent  Avg. Session Length Rounded  \n",
              "154              3.864861           595.803819                         36.0  \n",
              "12               4.046423           408.640351                         30.0  "
            ]
          },
          "execution_count": 20,
          "metadata": {},
          "output_type": "execute_result"
        }
      ],
      "source": [
        "df.iloc[[df['Avg. Session Length'].idxmax(), df['Avg. Session Length'].idxmin()]]"
      ]
    },
    {
      "cell_type": "markdown",
      "metadata": {
        "id": "xW_nSxd9EwSH"
      },
      "source": [
        "## Статистические показатели числовых столбцов"
      ]
    },
    {
      "cell_type": "markdown",
      "metadata": {
        "id": "N2eOs3RvEwSH"
      },
      "source": [
        "Перейдем к функциям, с помощью которых мы сможем найти статистические показатели числовых столбцов. Это очень важно для понимания наших данных."
      ]
    },
    {
      "cell_type": "markdown",
      "metadata": {
        "id": "-h_s92CTEwSI"
      },
      "source": [
        "### max() и min()"
      ]
    },
    {
      "cell_type": "markdown",
      "metadata": {
        "id": "B_VtiA1cEwSI"
      },
      "source": [
        "С помощью функций __min()__ и __max()__ можно найти минимальное и максимальное значение в столбце. Не знаю, что тут еще написать. Хотите анекдот?"
      ]
    },
    {
      "cell_type": "code",
      "execution_count": null,
      "metadata": {
        "id": "2VBucHdQEwSI",
        "outputId": "0461e468-bd63-4eee-f21f-1513027b29b5"
      },
      "outputs": [
        {
          "data": {
            "text/plain": [
              "29.532428967057943"
            ]
          },
          "execution_count": 21,
          "metadata": {},
          "output_type": "execute_result"
        }
      ],
      "source": [
        "df['Avg. Session Length'].min()"
      ]
    },
    {
      "cell_type": "code",
      "execution_count": null,
      "metadata": {
        "id": "CRcejL8hEwSI",
        "outputId": "59e25a09-5b3d-43d4-bf71-d0c8a1b48372"
      },
      "outputs": [
        {
          "data": {
            "text/plain": [
              "36.13966248879052"
            ]
          },
          "execution_count": 22,
          "metadata": {},
          "output_type": "execute_result"
        }
      ],
      "source": [
        "df['Avg. Session Length'].max()"
      ]
    },
    {
      "cell_type": "markdown",
      "metadata": {
        "id": "FiRrmsBdEwSI"
      },
      "source": [
        "### quantile()"
      ]
    },
    {
      "cell_type": "markdown",
      "metadata": {
        "id": "yGowvdzWEwSI"
      },
      "source": [
        "Квантиль (перцентиль) – это такое число, ниже которого находится определенный процент значений. Например, если взять 25-й квантиль, то ниже выведенного значения будет находиться 25% всех значений.\n",
        "\n",
        "Самые популярные разновидности квантиля это медиана и квартили. Медиана (или 50-й квантиль/перцентиль) – это значение, меньше которого будет 50% всех значений. Квартили это квантили, которые делят значения на четверти (25%, 50% и 75%)"
      ]
    },
    {
      "cell_type": "code",
      "execution_count": null,
      "metadata": {
        "id": "snnQMCEGEwSI",
        "outputId": "cd433ce3-f301-4be5-ad69-87aa54c2058f"
      },
      "outputs": [
        {
          "data": {
            "text/plain": [
              "32.34182200451777"
            ]
          },
          "execution_count": 23,
          "metadata": {},
          "output_type": "execute_result"
        }
      ],
      "source": [
        "df['Avg. Session Length'].quantile(0.25)"
      ]
    },
    {
      "cell_type": "markdown",
      "metadata": {
        "id": "zlY07gXTEwSI"
      },
      "source": [
        "### Меры центральной тенденции"
      ]
    },
    {
      "cell_type": "markdown",
      "metadata": {
        "id": "xi3dD2SeEwSI"
      },
      "source": [
        "Основные меры центральной тенденции – это среднее (mean), мода (mode) и медиана (median). Их можно найти с помощью одноименных функций."
      ]
    },
    {
      "cell_type": "code",
      "execution_count": null,
      "metadata": {
        "id": "7VbEvpSmEwSI",
        "outputId": "d6a48e88-c318-4eb1-8d70-cb8a9877897e"
      },
      "outputs": [
        {
          "data": {
            "text/plain": [
              "33.05319351819619"
            ]
          },
          "execution_count": 24,
          "metadata": {},
          "output_type": "execute_result"
        }
      ],
      "source": [
        "df['Avg. Session Length'].mean()"
      ]
    },
    {
      "cell_type": "code",
      "execution_count": null,
      "metadata": {
        "id": "L8L9B0UxEwSJ",
        "outputId": "c0315e24-1aae-44a9-bf84-f7b193afada6"
      },
      "outputs": [
        {
          "data": {
            "text/plain": [
              "0    33.0\n",
              "Name: Avg. Session Length Rounded, dtype: float64"
            ]
          },
          "execution_count": 25,
          "metadata": {},
          "output_type": "execute_result"
        }
      ],
      "source": [
        "df['Avg. Session Length Rounded'].mode()"
      ]
    },
    {
      "cell_type": "code",
      "execution_count": null,
      "metadata": {
        "id": "tyWJaK61EwSJ",
        "outputId": "f374c688-ed83-4b25-a557-4f15401543e5"
      },
      "outputs": [
        {
          "data": {
            "text/plain": [
              "33.08200760262899"
            ]
          },
          "execution_count": 26,
          "metadata": {},
          "output_type": "execute_result"
        }
      ],
      "source": [
        "df['Avg. Session Length'].median()"
      ]
    },
    {
      "cell_type": "markdown",
      "metadata": {
        "id": "4MxuYd1EEwSJ"
      },
      "source": [
        "### Меры изменчивости"
      ]
    },
    {
      "cell_type": "markdown",
      "metadata": {
        "id": "jVbGB_CyEwSJ"
      },
      "source": [
        "Перейдем к обсуждению мер изменчивости. Рассмотрим 4 из них: размах, межквартильный размах (IQR), дисперсию (VARiance, var) и стандартное отклонение (STandard Deviation, std). Для нахождения первых двух нет функций – придется делать ручками."
      ]
    },
    {
      "cell_type": "code",
      "execution_count": null,
      "metadata": {
        "id": "OYT1qFuJEwSJ",
        "outputId": "822012e2-19f5-44df-da80-3b0a1b273bfc"
      },
      "outputs": [
        {
          "data": {
            "text/plain": [
              "6.607233521732578"
            ]
          },
          "execution_count": 27,
          "metadata": {},
          "output_type": "execute_result"
        }
      ],
      "source": [
        "# Найдем размах\n",
        "range = df['Avg. Session Length'].max() - df['Avg. Session Length'].min()\n",
        "range"
      ]
    },
    {
      "cell_type": "code",
      "execution_count": null,
      "metadata": {
        "id": "HpzqvvewEwSJ",
        "outputId": "d4ad89f7-c398-4811-ffe3-f6f9284f03a2"
      },
      "outputs": [
        {
          "data": {
            "text/plain": [
              "1.3701630194366956"
            ]
          },
          "execution_count": 28,
          "metadata": {},
          "output_type": "execute_result"
        }
      ],
      "source": [
        "# Найдем межквартильный размах\n",
        "Q1 = df['Avg. Session Length'].quantile(0.25)\n",
        "Q3 = df['Avg. Session Length'].quantile(0.75)\n",
        "\n",
        "IQR = Q3 - Q1\n",
        "IQR"
      ]
    },
    {
      "cell_type": "code",
      "execution_count": null,
      "metadata": {
        "id": "yEzkwmR9EwSJ",
        "outputId": "fd69cf7d-6972-4825-dd3c-ff89fe5a18ab"
      },
      "outputs": [
        {
          "data": {
            "text/plain": [
              "0.985181529485813"
            ]
          },
          "execution_count": 29,
          "metadata": {},
          "output_type": "execute_result"
        }
      ],
      "source": [
        "df['Avg. Session Length'].var()"
      ]
    },
    {
      "cell_type": "code",
      "execution_count": null,
      "metadata": {
        "id": "U5w39QWBEwSJ",
        "outputId": "85d56c0c-3ed3-4b29-dffa-621dc45529de"
      },
      "outputs": [
        {
          "data": {
            "text/plain": [
              "0.992563111084536"
            ]
          },
          "execution_count": 30,
          "metadata": {},
          "output_type": "execute_result"
        }
      ],
      "source": [
        "df['Avg. Session Length'].std()"
      ]
    },
    {
      "cell_type": "markdown",
      "metadata": {
        "id": "P5sdIXmTEwSK"
      },
      "source": [
        "### describe()"
      ]
    },
    {
      "cell_type": "markdown",
      "metadata": {
        "id": "D4ms9CJSEwSK"
      },
      "source": [
        "Метод, который объединяет в себе mean(), std(), min(), нахождение квартилей (в том числе второго квартиля – медианы) и max() – describe(). Идеальное решение, чтобы по-быстрому познакомиться со столбцом."
      ]
    },
    {
      "cell_type": "code",
      "execution_count": null,
      "metadata": {
        "id": "UTX7AEr3EwSK",
        "outputId": "b3708e74-3400-4c86-f872-4d6f5f84a041"
      },
      "outputs": [
        {
          "data": {
            "text/plain": [
              "count    500.000000\n",
              "mean      33.053194\n",
              "std        0.992563\n",
              "min       29.532429\n",
              "25%       32.341822\n",
              "50%       33.082008\n",
              "75%       33.711985\n",
              "max       36.139662\n",
              "Name: Avg. Session Length, dtype: float64"
            ]
          },
          "execution_count": 31,
          "metadata": {},
          "output_type": "execute_result"
        }
      ],
      "source": [
        "df['Avg. Session Length'].describe()"
      ]
    },
    {
      "cell_type": "markdown",
      "metadata": {
        "id": "wd7AJmfbEwSK"
      },
      "source": [
        "### corr()"
      ]
    },
    {
      "cell_type": "markdown",
      "metadata": {
        "id": "6N5mQblvEwSK"
      },
      "source": [
        "Чтобы найти коэффициент корреляции какого-то числового массива данных с другим числовым массивом данных, можно использовать функцию **corr()**. У этой функции присутствует аргумент *method* который принимает значения 'pearson' (по умолчанию), 'spearman' и 'kendall' и отвечает за то, какой показатель корреляции будет рассчитан для данных – коэффициент Пирсона, Спирмэна или Кендалла.\n"
      ]
    },
    {
      "cell_type": "code",
      "execution_count": null,
      "metadata": {
        "id": "kL32h6NlEwSK",
        "outputId": "63d0e46e-0d4a-4daa-a66c-559e4eafc090"
      },
      "outputs": [
        {
          "data": {
            "text/plain": [
              "-0.02782598355566175"
            ]
          },
          "execution_count": 34,
          "metadata": {},
          "output_type": "execute_result"
        }
      ],
      "source": [
        "df['Avg. Session Length'].corr(df['Time on App'])"
      ]
    },
    {
      "cell_type": "code",
      "execution_count": null,
      "metadata": {
        "id": "Zi7a3lwAEwSK",
        "outputId": "f1f9af30-d369-47ad-e839-371e1e19fd4a"
      },
      "outputs": [
        {
          "data": {
            "text/plain": [
              "-0.020667730670922684"
            ]
          },
          "execution_count": 36,
          "metadata": {},
          "output_type": "execute_result"
        }
      ],
      "source": [
        "df['Avg. Session Length'].corr(df['Time on App'], method='spearman')"
      ]
    },
    {
      "cell_type": "markdown",
      "metadata": {
        "id": "9_7O9uMqEwSK"
      },
      "source": [
        "\n",
        "Если применить функцию к датасету, то она вернет DataFrame с матрицой корреляций."
      ]
    },
    {
      "cell_type": "code",
      "execution_count": null,
      "metadata": {
        "id": "1lmHyql2EwSK",
        "outputId": "748f96f6-746b-4d6a-b47a-89cbb458b79b"
      },
      "outputs": [
        {
          "data": {
            "text/html": [
              "<div>\n",
              "<style scoped>\n",
              "    .dataframe tbody tr th:only-of-type {\n",
              "        vertical-align: middle;\n",
              "    }\n",
              "\n",
              "    .dataframe tbody tr th {\n",
              "        vertical-align: top;\n",
              "    }\n",
              "\n",
              "    .dataframe thead th {\n",
              "        text-align: right;\n",
              "    }\n",
              "</style>\n",
              "<table border=\"1\" class=\"dataframe\">\n",
              "  <thead>\n",
              "    <tr style=\"text-align: right;\">\n",
              "      <th></th>\n",
              "      <th>Avg. Session Length</th>\n",
              "      <th>Time on App</th>\n",
              "      <th>Time on Website</th>\n",
              "      <th>Length of Membership</th>\n",
              "    </tr>\n",
              "  </thead>\n",
              "  <tbody>\n",
              "    <tr>\n",
              "      <th>Avg. Session Length</th>\n",
              "      <td>1.000000</td>\n",
              "      <td>-0.027826</td>\n",
              "      <td>-0.034987</td>\n",
              "      <td>0.060247</td>\n",
              "    </tr>\n",
              "    <tr>\n",
              "      <th>Time on App</th>\n",
              "      <td>-0.027826</td>\n",
              "      <td>1.000000</td>\n",
              "      <td>0.082388</td>\n",
              "      <td>0.029143</td>\n",
              "    </tr>\n",
              "    <tr>\n",
              "      <th>Time on Website</th>\n",
              "      <td>-0.034987</td>\n",
              "      <td>0.082388</td>\n",
              "      <td>1.000000</td>\n",
              "      <td>-0.047582</td>\n",
              "    </tr>\n",
              "    <tr>\n",
              "      <th>Length of Membership</th>\n",
              "      <td>0.060247</td>\n",
              "      <td>0.029143</td>\n",
              "      <td>-0.047582</td>\n",
              "      <td>1.000000</td>\n",
              "    </tr>\n",
              "  </tbody>\n",
              "</table>\n",
              "</div>"
            ],
            "text/plain": [
              "                      Avg. Session Length  Time on App  Time on Website  \\\n",
              "Avg. Session Length              1.000000    -0.027826        -0.034987   \n",
              "Time on App                     -0.027826     1.000000         0.082388   \n",
              "Time on Website                 -0.034987     0.082388         1.000000   \n",
              "Length of Membership             0.060247     0.029143        -0.047582   \n",
              "\n",
              "                      Length of Membership  \n",
              "Avg. Session Length               0.060247  \n",
              "Time on App                       0.029143  \n",
              "Time on Website                  -0.047582  \n",
              "Length of Membership              1.000000  "
            ]
          },
          "execution_count": 41,
          "metadata": {},
          "output_type": "execute_result"
        }
      ],
      "source": [
        "# Сначала из датасета выберем колонки, по которым хотим построить матрицу корреляций, а потом создадим ее\n",
        "selected_columns = ['Avg. Session Length', 'Time on App', 'Time on Website', 'Length of Membership']\n",
        "selected_df = df[selected_columns]\n",
        "corr_matrix = selected_df.corr(method='pearson')\n",
        "\n",
        "corr_matrix"
      ]
    },
    {
      "cell_type": "code",
      "execution_count": null,
      "metadata": {
        "id": "lUBj5U83EwSK",
        "outputId": "4a3d6b4b-ac53-428b-96ee-9083fd4f4e12"
      },
      "outputs": [
        {
          "data": {
            "text/plain": [
              "0.7799147996591986"
            ]
          },
          "execution_count": 44,
          "metadata": {},
          "output_type": "execute_result"
        }
      ],
      "source": [
        "df['Length of Membership'].corr(df['Yearly Amount Spent'], method='spearman')"
      ]
    },
    {
      "cell_type": "code",
      "execution_count": null,
      "metadata": {
        "id": "j3nwiUD8EwSK"
      },
      "outputs": [],
      "source": []
    }
  ],
  "metadata": {
    "kernelspec": {
      "display_name": "Python 3",
      "language": "python",
      "name": "python3"
    },
    "language_info": {
      "codemirror_mode": {
        "name": "ipython",
        "version": 3
      },
      "file_extension": ".py",
      "mimetype": "text/x-python",
      "name": "python",
      "nbconvert_exporter": "python",
      "pygments_lexer": "ipython3",
      "version": "3.12.6"
    },
    "colab": {
      "provenance": []
    }
  },
  "nbformat": 4,
  "nbformat_minor": 0
}