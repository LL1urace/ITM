{
  "cells": [
    {
      "cell_type": "code",
      "execution_count": null,
      "metadata": {
        "id": "g0Dxc-jeKPXy"
      },
      "outputs": [],
      "source": [
        "import numpy as np\n",
        "import pandas as pd\n",
        "import matplotlib.pyplot as plt\n",
        "import seaborn as sns"
      ]
    },
    {
      "cell_type": "code",
      "execution_count": null,
      "metadata": {
        "id": "Ua71VN-XKPX1"
      },
      "outputs": [],
      "source": [
        "df = pd.read_csv('https://drive.google.com/uc?export=download&id=1J1edk5yMt8tkFe7prA46mmCG5B6ORSLk')"
      ]
    },
    {
      "cell_type": "code",
      "execution_count": null,
      "metadata": {
        "id": "w-slOFsCKPX3",
        "outputId": "b4baa08f-88e9-42fc-adce-49410f6aa006"
      },
      "outputs": [
        {
          "data": {
            "text/html": [
              "<div>\n",
              "<style scoped>\n",
              "    .dataframe tbody tr th:only-of-type {\n",
              "        vertical-align: middle;\n",
              "    }\n",
              "\n",
              "    .dataframe tbody tr th {\n",
              "        vertical-align: top;\n",
              "    }\n",
              "\n",
              "    .dataframe thead th {\n",
              "        text-align: right;\n",
              "    }\n",
              "</style>\n",
              "<table border=\"1\" class=\"dataframe\">\n",
              "  <thead>\n",
              "    <tr style=\"text-align: right;\">\n",
              "      <th></th>\n",
              "      <th>Name</th>\n",
              "      <th>Gender</th>\n",
              "      <th>Age</th>\n",
              "      <th>Salary</th>\n",
              "      <th>Occupation</th>\n",
              "      <th>Start_Date</th>\n",
              "      <th>Hours_per_week</th>\n",
              "    </tr>\n",
              "  </thead>\n",
              "  <tbody>\n",
              "    <tr>\n",
              "      <th>0</th>\n",
              "      <td>John Smith</td>\n",
              "      <td>Male</td>\n",
              "      <td>34</td>\n",
              "      <td>5000</td>\n",
              "      <td>Data Analyst</td>\n",
              "      <td>2018-04-23</td>\n",
              "      <td>40</td>\n",
              "    </tr>\n",
              "    <tr>\n",
              "      <th>1</th>\n",
              "      <td>Anna Brown</td>\n",
              "      <td>Female</td>\n",
              "      <td>29</td>\n",
              "      <td>5200</td>\n",
              "      <td>Software Dev</td>\n",
              "      <td>2019-08-15</td>\n",
              "      <td>45</td>\n",
              "    </tr>\n",
              "    <tr>\n",
              "      <th>2</th>\n",
              "      <td>Mark Lee</td>\n",
              "      <td>Male</td>\n",
              "      <td>41</td>\n",
              "      <td>4800</td>\n",
              "      <td>Project Manager</td>\n",
              "      <td>2016-03-12</td>\n",
              "      <td>38</td>\n",
              "    </tr>\n",
              "    <tr>\n",
              "      <th>3</th>\n",
              "      <td>Lucy Hill</td>\n",
              "      <td>Female</td>\n",
              "      <td>36</td>\n",
              "      <td>5500</td>\n",
              "      <td>Data Scientist</td>\n",
              "      <td>2020-01-10</td>\n",
              "      <td>42</td>\n",
              "    </tr>\n",
              "    <tr>\n",
              "      <th>4</th>\n",
              "      <td>Alan Reed</td>\n",
              "      <td>Male</td>\n",
              "      <td>31</td>\n",
              "      <td>4600</td>\n",
              "      <td>HR Specialist</td>\n",
              "      <td>2021-06-07</td>\n",
              "      <td>40</td>\n",
              "    </tr>\n",
              "  </tbody>\n",
              "</table>\n",
              "</div>"
            ],
            "text/plain": [
              "         Name  Gender  Age  Salary       Occupation  Start_Date  \\\n",
              "0  John Smith    Male   34    5000     Data Analyst  2018-04-23   \n",
              "1  Anna Brown  Female   29    5200     Software Dev  2019-08-15   \n",
              "2    Mark Lee    Male   41    4800  Project Manager  2016-03-12   \n",
              "3   Lucy Hill  Female   36    5500   Data Scientist  2020-01-10   \n",
              "4   Alan Reed    Male   31    4600    HR Specialist  2021-06-07   \n",
              "\n",
              "   Hours_per_week  \n",
              "0              40  \n",
              "1              45  \n",
              "2              38  \n",
              "3              42  \n",
              "4              40  "
            ]
          },
          "execution_count": 4,
          "metadata": {},
          "output_type": "execute_result"
        }
      ],
      "source": [
        "df.head()"
      ]
    },
    {
      "cell_type": "markdown",
      "metadata": {
        "id": "PMDYEuKSKPX5"
      },
      "source": [
        "## Трансформация данных (ч.1)"
      ]
    },
    {
      "cell_type": "markdown",
      "metadata": {
        "id": "ahgXN_5tKPX7"
      },
      "source": [
        "### Добавление нового столбца"
      ]
    },
    {
      "cell_type": "markdown",
      "metadata": {
        "id": "xP1YOb-7KPX8"
      },
      "source": [
        "Иногда возникает необходимость создать новый столбец в датасете, ну не в экселе же это делать, правда? И для этого даже не придется вручную проходить по всем строкам или писать цикл, Pandas сделает это за вас!\n",
        "\n",
        "Создадим новый столбец, в котором будет находится годовая зарплата работников."
      ]
    },
    {
      "cell_type": "code",
      "execution_count": null,
      "metadata": {
        "id": "RPNehqDQKPX8"
      },
      "outputs": [],
      "source": [
        "df['Annual salary'] = df['Salary'] * 12"
      ]
    },
    {
      "cell_type": "code",
      "execution_count": null,
      "metadata": {
        "id": "v65y8-D2KPX9",
        "outputId": "3a45a040-205a-4399-c81c-7bbced9af3aa"
      },
      "outputs": [
        {
          "data": {
            "text/plain": [
              "count       49.000000\n",
              "mean     62326.530612\n",
              "std       6026.980156\n",
              "min      52800.000000\n",
              "25%      57600.000000\n",
              "50%      61200.000000\n",
              "75%      66000.000000\n",
              "max      75600.000000\n",
              "Name: Annual salary, dtype: float64"
            ]
          },
          "execution_count": 6,
          "metadata": {},
          "output_type": "execute_result"
        }
      ],
      "source": [
        "df['Annual salary'].describe()"
      ]
    },
    {
      "cell_type": "markdown",
      "metadata": {
        "id": "bRlMYgNcKPX-"
      },
      "source": [
        "### Удаление строк/столбцов"
      ]
    },
    {
      "cell_type": "markdown",
      "metadata": {
        "id": "I4H8Ge2fKPX_"
      },
      "source": [
        "Для того, чтобы удалить строки или столбцы, используется функция __drop()__ с аргументом axis=0 для удаления строк и axis=1 для удаления столбцов. Обратите внимание на аргумент __inplace__ – в этой и многих других функциях он отвечает за то, создается ли копия объекта (=False) или изменения применяются к существующему объекту (=True). В случае c inplace=False нам возвращается DataFrame.\n",
        "\n",
        "Теперь удалим тот столбик, который создали в прошлый раз, так как поняли, что он нам оказался не нужен.\n",
        "\n",
        "Ну и выкинем заодно пару строчек, в образовательных целях, конечно же! (На реальных данных так делать не надо)"
      ]
    },
    {
      "cell_type": "code",
      "execution_count": null,
      "metadata": {
        "id": "jaV9ExECKPX_"
      },
      "outputs": [],
      "source": [
        "df.drop('Annual salary', axis=1, inplace=True)"
      ]
    },
    {
      "cell_type": "code",
      "execution_count": null,
      "metadata": {
        "id": "hQn-tqKQKPYA"
      },
      "outputs": [],
      "source": [
        "df.drop([10, 12, 44], axis=0, inplace=True)"
      ]
    },
    {
      "cell_type": "code",
      "execution_count": null,
      "metadata": {
        "id": "9fWWpQI6KPYA",
        "outputId": "00420df7-421e-46be-8e2c-bf5e151c1106"
      },
      "outputs": [
        {
          "data": {
            "text/html": [
              "<div>\n",
              "<style scoped>\n",
              "    .dataframe tbody tr th:only-of-type {\n",
              "        vertical-align: middle;\n",
              "    }\n",
              "\n",
              "    .dataframe tbody tr th {\n",
              "        vertical-align: top;\n",
              "    }\n",
              "\n",
              "    .dataframe thead th {\n",
              "        text-align: right;\n",
              "    }\n",
              "</style>\n",
              "<table border=\"1\" class=\"dataframe\">\n",
              "  <thead>\n",
              "    <tr style=\"text-align: right;\">\n",
              "      <th></th>\n",
              "      <th>Name</th>\n",
              "      <th>Gender</th>\n",
              "      <th>Age</th>\n",
              "      <th>Salary</th>\n",
              "      <th>Occupation</th>\n",
              "      <th>Start_Date</th>\n",
              "      <th>Hours_per_week</th>\n",
              "    </tr>\n",
              "  </thead>\n",
              "  <tbody>\n",
              "    <tr>\n",
              "      <th>8</th>\n",
              "      <td>Steve Harris</td>\n",
              "      <td>Male</td>\n",
              "      <td>28</td>\n",
              "      <td>4900</td>\n",
              "      <td>Software Dev</td>\n",
              "      <td>2020-05-30</td>\n",
              "      <td>43</td>\n",
              "    </tr>\n",
              "    <tr>\n",
              "      <th>9</th>\n",
              "      <td>Julia Roberts</td>\n",
              "      <td>Female</td>\n",
              "      <td>42</td>\n",
              "      <td>5800</td>\n",
              "      <td>Project Manager</td>\n",
              "      <td>2014-04-05</td>\n",
              "      <td>37</td>\n",
              "    </tr>\n",
              "    <tr>\n",
              "      <th>11</th>\n",
              "      <td>Sophia Martin</td>\n",
              "      <td>Female</td>\n",
              "      <td>27</td>\n",
              "      <td>4500</td>\n",
              "      <td>Data Scientist</td>\n",
              "      <td>2021-03-25</td>\n",
              "      <td>44</td>\n",
              "    </tr>\n",
              "  </tbody>\n",
              "</table>\n",
              "</div>"
            ],
            "text/plain": [
              "             Name  Gender  Age  Salary       Occupation  Start_Date  \\\n",
              "8    Steve Harris    Male   28    4900     Software Dev  2020-05-30   \n",
              "9   Julia Roberts  Female   42    5800  Project Manager  2014-04-05   \n",
              "11  Sophia Martin  Female   27    4500   Data Scientist  2021-03-25   \n",
              "\n",
              "    Hours_per_week  \n",
              "8               43  \n",
              "9               37  \n",
              "11              44  "
            ]
          },
          "execution_count": 9,
          "metadata": {},
          "output_type": "execute_result"
        }
      ],
      "source": [
        "df.iloc[8:11]"
      ]
    },
    {
      "cell_type": "markdown",
      "metadata": {
        "id": "uYH9Vji6KPYB"
      },
      "source": [
        "Ого, оно и вправду удалилось! (просто, чтобы вы поверили)"
      ]
    },
    {
      "cell_type": "markdown",
      "metadata": {
        "id": "DllGaqYcKPYB"
      },
      "source": [
        "### Замена значений"
      ]
    },
    {
      "cell_type": "markdown",
      "metadata": {
        "id": "U29eatZpKPYB"
      },
      "source": [
        "Чтобы заменить какое-то значение в столбце (или во всем датафрейме) можно использовать функцию __replace()__, в которой первое аргумент это то, что мы заменяем, а второй то, на что мы заменяем.\n",
        "\n",
        "Например, поменяем _CTO_ на _Chief Technology Officer_, потому что я так чувствую."
      ]
    },
    {
      "cell_type": "code",
      "execution_count": null,
      "metadata": {
        "id": "rBUxETZ-KPYB",
        "outputId": "7b1a5900-5c44-4827-b561-327df5c39979"
      },
      "outputs": [
        {
          "data": {
            "text/plain": [
              "6     CTO\n",
              "13    CTO\n",
              "19    CTO\n",
              "31    CTO\n",
              "35    CTO\n",
              "43    CTO\n",
              "Name: Occupation, dtype: object"
            ]
          },
          "execution_count": 10,
          "metadata": {},
          "output_type": "execute_result"
        }
      ],
      "source": [
        "# Проверим, есть ли такие значения\n",
        "df['Occupation'][df['Occupation'] == 'CTO']"
      ]
    },
    {
      "cell_type": "code",
      "execution_count": null,
      "metadata": {
        "id": "B5QE90zsKPYC",
        "outputId": "a9153e01-e76d-448e-a718-19f4c09be8a0"
      },
      "outputs": [
        {
          "name": "stderr",
          "output_type": "stream",
          "text": [
            "C:\\Users\\bessolov\\AppData\\Local\\Temp\\ipykernel_14780\\900326225.py:1: FutureWarning: A value is trying to be set on a copy of a DataFrame or Series through chained assignment using an inplace method.\n",
            "The behavior will change in pandas 3.0. This inplace method will never work because the intermediate object on which we are setting values always behaves as a copy.\n",
            "\n",
            "For example, when doing 'df[col].method(value, inplace=True)', try using 'df.method({col: value}, inplace=True)' or df[col] = df[col].method(value) instead, to perform the operation inplace on the original object.\n",
            "\n",
            "\n",
            "  df['Occupation'].replace('CTO', 'Chief Technology Officer', inplace=True)\n"
          ]
        }
      ],
      "source": [
        "df['Occupation'].replace('CTO', 'Chief Technology Officer', inplace=True)"
      ]
    },
    {
      "cell_type": "code",
      "execution_count": null,
      "metadata": {
        "id": "xIWfqDp3KPYC",
        "outputId": "fb0e4be9-2c8b-4374-c859-13dab297b70b"
      },
      "outputs": [
        {
          "data": {
            "text/plain": [
              "Series([], Name: Occupation, dtype: object)"
            ]
          },
          "execution_count": 12,
          "metadata": {},
          "output_type": "execute_result"
        }
      ],
      "source": [
        "# проверим, остались ли такие значения\n",
        "df['Occupation'][df['Occupation'] == 'CTO']"
      ]
    },
    {
      "cell_type": "markdown",
      "metadata": {
        "id": "uqvRvac1KPYC"
      },
      "source": [
        "### Работа с пропущенными значениями"
      ]
    },
    {
      "cell_type": "markdown",
      "metadata": {
        "id": "VPyBKSltKPYD"
      },
      "source": [
        "Часто случается такое, что у вас в данных появляются пропуски (NaN), что же с ними делать? Если столбец с пропусками важен для вашего исследования, то можно либо удалить строки с этими пропусками, либо заполнить их чем-то (например, средним)\n",
        "\n",
        "Рассмотрим, как делать это в Pandas."
      ]
    },
    {
      "cell_type": "markdown",
      "metadata": {
        "id": "8mrw8ERNKPYD"
      },
      "source": [
        "С помощью __fillna()__ можно заполнять пропуски в столбцах. В первом аргументе вы ставите то значение, на которое следует заменить все пропуски. Вместо него так же можно использовать аргумент *method=* который принимает три значения: \"backfill/bfill\" заполняет пропуск следующим значением, а 'ffill' заполняет пропуск предыдущим значением."
      ]
    },
    {
      "cell_type": "code",
      "execution_count": null,
      "metadata": {
        "id": "mFf8ejmyKPYD",
        "outputId": "c2777ef6-ed2b-4134-8c03-a2f80207a02f"
      },
      "outputs": [
        {
          "name": "stderr",
          "output_type": "stream",
          "text": [
            "C:\\Users\\bessolov\\AppData\\Local\\Temp\\ipykernel_14780\\2644856927.py:1: FutureWarning: A value is trying to be set on a copy of a DataFrame or Series through chained assignment using an inplace method.\n",
            "The behavior will change in pandas 3.0. This inplace method will never work because the intermediate object on which we are setting values always behaves as a copy.\n",
            "\n",
            "For example, when doing 'df[col].method(value, inplace=True)', try using 'df.method({col: value}, inplace=True)' or df[col] = df[col].method(value) instead, to perform the operation inplace on the original object.\n",
            "\n",
            "\n",
            "  df['Salary'].fillna(df['Salary'].mean(), inplace=True)\n"
          ]
        }
      ],
      "source": [
        "df['Salary'].fillna(df['Salary'].mean(), inplace=True)"
      ]
    },
    {
      "cell_type": "markdown",
      "metadata": {
        "id": "jaC3OHPwKPYD"
      },
      "source": [
        "С помощью __dropna()__ можно удалять строки с пропущенными значениями. В аргумент subset можно передать столбик/список столбцов, где нужно очистить NaN."
      ]
    },
    {
      "cell_type": "code",
      "execution_count": null,
      "metadata": {
        "id": "bB9X3FR0KPYD"
      },
      "outputs": [],
      "source": [
        "df.dropna(subset=['Salary'], inplace=True)"
      ]
    },
    {
      "cell_type": "markdown",
      "metadata": {
        "id": "byaWFgQcKPYD"
      },
      "source": [
        "Стоит оговориться, что эти функции работают как со столбцами, так и со всем датасетом. Но не удивляйтесь, когда обнаружите отсутствие 60% данных, после запуска dropna() по всему датасету. Я вас предупреждал!"
      ]
    },
    {
      "cell_type": "markdown",
      "metadata": {
        "id": "yjEY14CEKPYE"
      },
      "source": [
        "## Трансформация данных (ч.2)"
      ]
    },
    {
      "cell_type": "markdown",
      "metadata": {
        "id": "PGGGncz7KPYE"
      },
      "source": [
        "### apply()"
      ]
    },
    {
      "cell_type": "markdown",
      "metadata": {
        "id": "XGObNytEKPYE"
      },
      "source": [
        "Функция __apply()__ используется для более сложных трансформаций, в которых требуется применить функцию ко всему массиву данных. В качестве аргумента этого метода выступает функция (неважно, лямбда-функция или нет)"
      ]
    },
    {
      "cell_type": "code",
      "execution_count": null,
      "metadata": {
        "id": "DKZW8314KPYE"
      },
      "outputs": [],
      "source": [
        "def age_category(age):\n",
        "    if age < 30:\n",
        "        return 'Young'\n",
        "    elif 30 <= age < 40:\n",
        "        return 'Middle-aged'\n",
        "    else:\n",
        "        return 'Senior'\n",
        "\n",
        "df['Age_category'] = df['Age'].apply(age_category)"
      ]
    },
    {
      "cell_type": "code",
      "execution_count": null,
      "metadata": {
        "id": "TZshwqk3KPYE"
      },
      "outputs": [],
      "source": [
        "# Тот же самый результат, но с использованием lambda-функции\n",
        "df['Age_category'] = df['Age'].apply(lambda age: 'Young' if age < 30 else 'Middle-aged' if 30 <= age < 40 else 'Senior')\n"
      ]
    },
    {
      "cell_type": "code",
      "execution_count": null,
      "metadata": {
        "id": "6-YgcsifKPYF",
        "outputId": "8238b51d-f458-4e66-962d-a1d09bca8bb5"
      },
      "outputs": [
        {
          "data": {
            "text/plain": [
              "array(['Middle-aged', 'Young', 'Senior', 'Middle-aged', 'Middle-aged',\n",
              "       'Middle-aged', 'Senior', 'Middle-aged', 'Young', 'Senior', 'Young',\n",
              "       'Senior', 'Middle-aged', 'Middle-aged', 'Young', 'Senior',\n",
              "       'Middle-aged', 'Senior', 'Middle-aged', 'Senior', 'Middle-aged',\n",
              "       'Young', 'Middle-aged', 'Middle-aged', 'Middle-aged', 'Senior',\n",
              "       'Young', 'Young', 'Middle-aged', 'Senior', 'Middle-aged',\n",
              "       'Middle-aged', 'Middle-aged', 'Senior', 'Middle-aged', 'Young',\n",
              "       'Middle-aged', 'Middle-aged', 'Young', 'Middle-aged',\n",
              "       'Middle-aged', 'Senior', 'Senior', 'Middle-aged', 'Middle-aged',\n",
              "       'Middle-aged'], dtype=object)"
            ]
          },
          "execution_count": 17,
          "metadata": {},
          "output_type": "execute_result"
        }
      ],
      "source": [
        "df['Age_category'].values"
      ]
    },
    {
      "cell_type": "markdown",
      "metadata": {
        "id": "2hKB2V3PKPYF"
      },
      "source": [
        "### map()"
      ]
    },
    {
      "cell_type": "markdown",
      "metadata": {
        "id": "yb9GpTK3KPYG"
      },
      "source": [
        "__map()__ применяется для преобразования данных с помощью словаря, чаще всего для замены определенных значений"
      ]
    },
    {
      "cell_type": "code",
      "execution_count": null,
      "metadata": {
        "id": "ArLacwWmKPYG"
      },
      "outputs": [],
      "source": [
        "df['Occupation_short'] = df['Occupation'].map({\n",
        "    'Data Analyst': 'DA',\n",
        "    'Software Dev': 'SD',\n",
        "    'Project Manager': 'PM',\n",
        "    'HR Specialist': 'HR',\n",
        "    'Data Scientist': 'DS',\n",
        "    'Business Analyst': 'BA',\n",
        "    'Chief Technology Officer': 'CTO'\n",
        "})"
      ]
    },
    {
      "cell_type": "code",
      "execution_count": null,
      "metadata": {
        "id": "CjBNmN0hKPYG",
        "outputId": "cdb4ab50-48ce-407c-d27e-9185928223e3"
      },
      "outputs": [
        {
          "data": {
            "text/plain": [
              "array(['DA', 'SD', 'PM', 'DS', 'HR', 'BA', 'CTO', 'DA', 'SD', 'PM', 'DS',\n",
              "       'CTO', 'DA', 'SD', 'PM', 'DS', 'HR', 'CTO', 'BA', 'PM', 'SD', 'HR',\n",
              "       'DS', 'BA', 'DA', 'PM', 'SD', 'HR', 'DS', 'CTO', 'BA', 'PM', 'DS',\n",
              "       'CTO', 'SD', 'HR', 'DA', 'PM', 'SD', 'HR', 'DS', 'CTO', 'PM', 'DS',\n",
              "       'BA', 'SD'], dtype=object)"
            ]
          },
          "execution_count": 19,
          "metadata": {},
          "output_type": "execute_result"
        }
      ],
      "source": [
        "df['Occupation_short'].values"
      ]
    },
    {
      "cell_type": "markdown",
      "metadata": {
        "id": "G8qwQc-2KPYG"
      },
      "source": [
        "Эти функции можно использовать как для создания новых столбцов, так и для изменения старых"
      ]
    },
    {
      "cell_type": "markdown",
      "metadata": {
        "id": "53B9Oz2bKPYH"
      },
      "source": [
        "## Преобразование типов данных"
      ]
    },
    {
      "cell_type": "markdown",
      "metadata": {
        "id": "wo0TnoL6KPYH"
      },
      "source": [
        "### astype()"
      ]
    },
    {
      "cell_type": "markdown",
      "metadata": {
        "id": "6CsNJNdzKPYN"
      },
      "source": [
        "Порой возникает необходимость поменять тип данных в столбце. Например, столбцы с целочисленным типом данных невозможно возвести в отрицательную степень. Преобразование данных так же может снизить объем потребляемой памяти. Основная функция для этого – __astype()__"
      ]
    },
    {
      "cell_type": "code",
      "execution_count": null,
      "metadata": {
        "id": "Z-2hnPMdKPYN"
      },
      "outputs": [],
      "source": [
        "df['Salary'] = df['Salary'].astype(float)"
      ]
    },
    {
      "cell_type": "markdown",
      "metadata": {
        "id": "1i4NpwWqKPYO"
      },
      "source": [
        "### to_datetime()"
      ]
    },
    {
      "cell_type": "markdown",
      "metadata": {
        "id": "S-yztNCdKPYO"
      },
      "source": [
        "Отдельно в преобразовании типов данных в Pandas стоит функция __to_datetime()__. Она намного сложнее, чем прошлые."
      ]
    },
    {
      "cell_type": "code",
      "execution_count": null,
      "metadata": {
        "id": "xM6NBIdKKPYO"
      },
      "outputs": [],
      "source": [
        "df['Start_Date'] = pd.to_datetime(df['Start_Date'], format='%Y-%m-%d')"
      ]
    },
    {
      "cell_type": "code",
      "execution_count": null,
      "metadata": {
        "id": "GFJVmvWhKPYO",
        "outputId": "971b88a0-d198-46c6-9daf-e60b91b4a401"
      },
      "outputs": [
        {
          "data": {
            "text/plain": [
              "Name                        object\n",
              "Gender                      object\n",
              "Age                          int64\n",
              "Salary                     float64\n",
              "Occupation                  object\n",
              "Start_Date          datetime64[ns]\n",
              "Hours_per_week               int64\n",
              "Age_category                object\n",
              "Occupation_short            object\n",
              "dtype: object"
            ]
          },
          "execution_count": 22,
          "metadata": {},
          "output_type": "execute_result"
        }
      ],
      "source": [
        "df.dtypes"
      ]
    },
    {
      "cell_type": "markdown",
      "metadata": {
        "id": "UdMLsZZDKPYO"
      },
      "source": [
        "Как мы видим, аргумент _format_ отвечает за то, как в вашем столбце сейчас организованы данные. В аргумент передается строка, написанная согласно [strftime](https://docs.python.org/3/library/datetime.html#strftime-and-strptime-behavior). **to_datetime()** имеет очень много важных для понимания аргументов – посмотреть их все можно [здесь](https://pandas.pydata.org/pandas-docs/stable/reference/api/pandas.to_datetime.html)."
      ]
    }
  ],
  "metadata": {
    "kernelspec": {
      "display_name": "Python 3",
      "language": "python",
      "name": "python3"
    },
    "language_info": {
      "codemirror_mode": {
        "name": "ipython",
        "version": 3
      },
      "file_extension": ".py",
      "mimetype": "text/x-python",
      "name": "python",
      "nbconvert_exporter": "python",
      "pygments_lexer": "ipython3",
      "version": "3.12.6"
    },
    "colab": {
      "provenance": []
    }
  },
  "nbformat": 4,
  "nbformat_minor": 0
}