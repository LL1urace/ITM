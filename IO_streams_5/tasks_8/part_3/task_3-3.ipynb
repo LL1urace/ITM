{
 "cells": [
  {
   "cell_type": "markdown",
   "id": "38d82fee",
   "metadata": {},
   "source": [
    "Дан датасет. По нему выполните следующие задания:\n",
    "\n",
    "1) Найдите час, в который чаще всего совершались сделки. (Подсказка: из ячеек формата DateTime можно извлечь час с помощью .dt.hour; например data['Date'].dt.hour)\n",
    "2) Найдите среднее, медиану и стандартное отклонение у округленных до целого значений df['Price']. Ответы округлите до десятых и выпишите их через пробел.\n",
    "3) Найдите возрастную группу, представители которой чаще являются агентами, не используя фильтрацию. Возрастные группы:\n",
    "0-35: Young\n",
    "36-55: Middle-aged\n",
    "56+: Senior\n",
    " \n",
    "В качестве разделителя используйте точку. В поле для ответа запишите ответы на вопросы сверху, разделенные символом «;». Если ответы равны 23, [mean: 43.654, median: 42.332, std: 15.464] и Young, то ответ должен выглядеть так: «23;43.7 42.3 15.5;Young»"
   ]
  },
  {
   "cell_type": "code",
   "execution_count": 11,
   "id": "01bc2268",
   "metadata": {},
   "outputs": [
    {
     "name": "stdout",
     "output_type": "stream",
     "text": [
      "e:\\Учёба\\Для проектиков по IT\\ITM\\5_IO_streams\n",
      "e:\\Учёба\\Для проектиков по IT\\ITM\\5_IO_streams\\files\\task_8\\3.3.2.csv\n"
     ]
    }
   ],
   "source": [
    "import pandas as pd\n",
    "import pathlib\n",
    "import scipy\n",
    "\n",
    "work_path = pathlib.Path.cwd().parent.parent\n",
    "data_path = pathlib.Path(work_path, 'files/task_8', \"3.3.2.csv\")\n",
    "print(work_path)\n",
    "print(data_path)\n",
    "ds = pd.read_csv(data_path, sep=';')"
   ]
  },
  {
   "cell_type": "code",
   "execution_count": null,
   "id": "405edabd",
   "metadata": {},
   "outputs": [
    {
     "data": {
      "text/html": [
       "<div>\n",
       "<style scoped>\n",
       "    .dataframe tbody tr th:only-of-type {\n",
       "        vertical-align: middle;\n",
       "    }\n",
       "\n",
       "    .dataframe tbody tr th {\n",
       "        vertical-align: top;\n",
       "    }\n",
       "\n",
       "    .dataframe thead th {\n",
       "        text-align: right;\n",
       "    }\n",
       "</style>\n",
       "<table border=\"1\" class=\"dataframe\">\n",
       "  <thead>\n",
       "    <tr style=\"text-align: right;\">\n",
       "      <th></th>\n",
       "      <th>Agent Name</th>\n",
       "      <th>Agent age</th>\n",
       "      <th>Time of deal</th>\n",
       "      <th>Price</th>\n",
       "    </tr>\n",
       "  </thead>\n",
       "  <tbody>\n",
       "    <tr>\n",
       "      <th>0</th>\n",
       "      <td>John Doe</td>\n",
       "      <td>35</td>\n",
       "      <td>2024-10-30 12:34</td>\n",
       "      <td>150.50</td>\n",
       "    </tr>\n",
       "    <tr>\n",
       "      <th>1</th>\n",
       "      <td>Jane Smith</td>\n",
       "      <td>45</td>\n",
       "      <td>2024-10-30 09:45</td>\n",
       "      <td>320.00</td>\n",
       "    </tr>\n",
       "    <tr>\n",
       "      <th>2</th>\n",
       "      <td>Michael Johnson</td>\n",
       "      <td>28</td>\n",
       "      <td>2024-10-30 14:12</td>\n",
       "      <td>260.75</td>\n",
       "    </tr>\n",
       "    <tr>\n",
       "      <th>3</th>\n",
       "      <td>Emily Davis</td>\n",
       "      <td>30</td>\n",
       "      <td>2024-10-30 16:50</td>\n",
       "      <td>180.10</td>\n",
       "    </tr>\n",
       "    <tr>\n",
       "      <th>4</th>\n",
       "      <td>Chris Wilson</td>\n",
       "      <td>50</td>\n",
       "      <td>2024-10-30 10:25</td>\n",
       "      <td>400.25</td>\n",
       "    </tr>\n",
       "    <tr>\n",
       "      <th>...</th>\n",
       "      <td>...</td>\n",
       "      <td>...</td>\n",
       "      <td>...</td>\n",
       "      <td>...</td>\n",
       "    </tr>\n",
       "    <tr>\n",
       "      <th>81</th>\n",
       "      <td>Avery Hernandez</td>\n",
       "      <td>44</td>\n",
       "      <td>2024-10-30 15:40</td>\n",
       "      <td>185.35</td>\n",
       "    </tr>\n",
       "    <tr>\n",
       "      <th>82</th>\n",
       "      <td>James Martinez</td>\n",
       "      <td>38</td>\n",
       "      <td>2024-10-30 11:15</td>\n",
       "      <td>170.90</td>\n",
       "    </tr>\n",
       "    <tr>\n",
       "      <th>83</th>\n",
       "      <td>Mia Evans</td>\n",
       "      <td>52</td>\n",
       "      <td>2024-10-30 12:10</td>\n",
       "      <td>240.20</td>\n",
       "    </tr>\n",
       "    <tr>\n",
       "      <th>84</th>\n",
       "      <td>Alexander Turner</td>\n",
       "      <td>37</td>\n",
       "      <td>2024-10-30 10:20</td>\n",
       "      <td>210.50</td>\n",
       "    </tr>\n",
       "    <tr>\n",
       "      <th>85</th>\n",
       "      <td>Zoe Bell</td>\n",
       "      <td>25</td>\n",
       "      <td>2024-10-30 12:55</td>\n",
       "      <td>145.70</td>\n",
       "    </tr>\n",
       "  </tbody>\n",
       "</table>\n",
       "<p>86 rows × 4 columns</p>\n",
       "</div>"
      ],
      "text/plain": [
       "          Agent Name  Agent age      Time of deal   Price\n",
       "0           John Doe         35  2024-10-30 12:34  150.50\n",
       "1         Jane Smith         45  2024-10-30 09:45  320.00\n",
       "2    Michael Johnson         28  2024-10-30 14:12  260.75\n",
       "3        Emily Davis         30  2024-10-30 16:50  180.10\n",
       "4       Chris Wilson         50  2024-10-30 10:25  400.25\n",
       "..               ...        ...               ...     ...\n",
       "81   Avery Hernandez         44  2024-10-30 15:40  185.35\n",
       "82    James Martinez         38  2024-10-30 11:15  170.90\n",
       "83         Mia Evans         52  2024-10-30 12:10  240.20\n",
       "84  Alexander Turner         37  2024-10-30 10:20  210.50\n",
       "85          Zoe Bell         25  2024-10-30 12:55  145.70\n",
       "\n",
       "[86 rows x 4 columns]"
      ]
     },
     "execution_count": 12,
     "metadata": {},
     "output_type": "execute_result"
    }
   ],
   "source": [
    "ds"
   ]
  },
  {
   "cell_type": "code",
   "execution_count": 41,
   "id": "c72138e9",
   "metadata": {},
   "outputs": [],
   "source": [
    "def get_most_common_transaction_hour(data) -> int:\n",
    "    \"\"\"Находит час, в который чаще всего совершались сделки.\"\"\"\n",
    "    data[\"Time of deal\"] = pd.to_datetime(data[\"Time of deal\"], format=\"%Y-%m-%d %H:%M\")\n",
    "    most_th = data['Time of deal'].dt.hour.mode()[0]\n",
    "    return most_th\n",
    "\n",
    "def get_price_statistics(data) -> str:\n",
    "    \"\"\"Находит среднее, медиану и стандартное отклонение у округленных до целого значений df['Price']. \n",
    "    Ответ округлен до десятых и выписан через пробел.\"\"\"\n",
    "    rounded_prices = data['Price'].round()\n",
    "    mean_v = rounded_prices.mean()\n",
    "    median_v = rounded_prices.median()\n",
    "    std_v = rounded_prices.std()\n",
    "    rd_mean = round(mean_v, 1)\n",
    "    rd_median = round(median_v, 1)\n",
    "    rd_std = round(std_v, 1)\n",
    "    return str(f\"{rd_mean} {rd_median} {rd_std}\")\n",
    "\n",
    "\n",
    "def get_most_common_age_group(data) -> str:\n",
    "    \"\"\"Находит возрастную группу, представители которой чаще являются агентами, не используя фильтрацию. \n",
    "    Возрастные группы:\n",
    "    0-35: Young\n",
    "    36-55: Middle-aged\n",
    "    56+: Senior\"\"\"\n",
    "    data['Age_category'] = data['Agent age'].apply(lambda age: 'Young' if age <= 35 else 'Middle-aged' if 35 < age <= 55 else 'Senior')\n",
    "    most_common_group  = data['Age_category'].value_counts().idxmax()\n",
    "    return most_common_group"
   ]
  },
  {
   "cell_type": "code",
   "execution_count": 42,
   "id": "eac464b2",
   "metadata": {},
   "outputs": [
    {
     "name": "stdout",
     "output_type": "stream",
     "text": [
      "12;254.2 237.5 80.4;Middle-aged\n"
     ]
    }
   ],
   "source": [
    "v1 = get_most_common_transaction_hour(ds)\n",
    "v2 = get_price_statistics(ds)\n",
    "v3 = get_most_common_age_group(ds)\n",
    "\n",
    "print(f\"{v1};{v2};{v3}\") # "
   ]
  },
  {
   "cell_type": "code",
   "execution_count": null,
   "id": "d8f4a623",
   "metadata": {},
   "outputs": [
    {
     "name": "stdout",
     "output_type": "stream",
     "text": [
      "12;254.2 237.5 80.4;Middle-aged\n"
     ]
    }
   ],
   "source": [
    "v1 = get_most_common_transaction_hour(ds)\n",
    "v2 = get_price_statistics(ds)\n",
    "v3 = get_most_common_age_group(ds)\n",
    "\n",
    "print(f\"{v1};{v2};{v3}\") # "
   ]
  }
 ],
 "metadata": {
  "kernelspec": {
   "display_name": ".venv",
   "language": "python",
   "name": "python3"
  },
  "language_info": {
   "codemirror_mode": {
    "name": "ipython",
    "version": 3
   },
   "file_extension": ".py",
   "mimetype": "text/x-python",
   "name": "python",
   "nbconvert_exporter": "python",
   "pygments_lexer": "ipython3",
   "version": "3.12.8"
  }
 },
 "nbformat": 4,
 "nbformat_minor": 5
}
