{
 "cells": [
  {
   "cell_type": "markdown",
   "id": "38d82fee",
   "metadata": {},
   "source": [
    "По ссылке находится датасет. Откройте его у себя и ответьте по нему на несколько вопросов.\n",
    "\n",
    "1) Каков размер датасета? Значения x и y разделите пробелом \n",
    "2) Какая доля всех значений пропущена? (Округлите до сотых, в качестве разделителя используйте точку)\n",
    "3) Какой самый частый тип данных у столбцов?\n",
    "\n",
    "Все ответы округлите до сотых, в качестве разделителя используйте точку. В поле для ответа запишите ответы на вопросы сверху, разделенные символом «;». Если ответы равны (24 4), 0.5325533 и int64, то ответ должен выглядеть так: «24 4;0.53;int64»"
   ]
  },
  {
   "cell_type": "code",
   "execution_count": 51,
   "id": "01bc2268",
   "metadata": {},
   "outputs": [
    {
     "name": "stdout",
     "output_type": "stream",
     "text": [
      "e:\\Учёба\\Для проектиков по IT\\ITM\\5_IO_streams\n",
      "e:\\Учёба\\Для проектиков по IT\\ITM\\5_IO_streams\\files\\task_8\\3.1.3.csv\n"
     ]
    }
   ],
   "source": [
    "import pandas as pd\n",
    "import pathlib\n",
    "\n",
    "work_path = pathlib.Path.cwd().parent.parent\n",
    "data_path = pathlib.Path(work_path, 'files_task2/task_8', \"3.1.3.csv\")\n",
    "print(work_path)\n",
    "print(data_path)\n",
    "ds = pd.read_csv(data_path, sep=\";\")"
   ]
  },
  {
   "cell_type": "code",
   "execution_count": 52,
   "id": "c72138e9",
   "metadata": {},
   "outputs": [],
   "source": [
    "def get_data_set_shape(data) -> str:\n",
    "    \"\"\"Показывает и возвращает размер датасета.\"\"\"\n",
    "    x, y = data.shape\n",
    "    print(f\"x = {x}, y = {y}\")\n",
    "    return str(f\"{x}, {y}\")\n",
    "\n",
    "def get_missing_data_fraction(data) -> str:\n",
    "    \"\"\"Показывает и возвращает какая доля пропущенных значений.\n",
    "    Ответ округляется до сотых.\"\"\"\n",
    "    total_ds_size = data.shape[0] * data.shape[1]\n",
    "    miss_ceils_count = data.isnull().sum().sum()\n",
    "    fraction = miss_ceils_count / total_ds_size \n",
    "    fraction_round = round(fraction, 2)\n",
    "    print(fraction_round)\n",
    "    return str(fraction_round)\n",
    "\n",
    "\n",
    "def get_most_common_dtype(data) -> str:\n",
    "    \"\"\"Показывает и возвращает какой самый частый тип данных у столбцов.\"\"\"\n",
    "    columns_dtypes = data.dtypes\n",
    "    most_common_dtype = columns_dtypes.mode()[0] # Series выход\n",
    "    print(f\"Самый частый тип данных: {most_common_dtype}\")\n",
    "    return str(most_common_dtype)"
   ]
  },
  {
   "cell_type": "code",
   "execution_count": 53,
   "id": "eac464b2",
   "metadata": {},
   "outputs": [
    {
     "name": "stdout",
     "output_type": "stream",
     "text": [
      "x = 44, y = 7\n"
     ]
    },
    {
     "data": {
      "text/plain": [
       "'44, 7'"
      ]
     },
     "execution_count": 53,
     "metadata": {},
     "output_type": "execute_result"
    }
   ],
   "source": [
    "get_data_set_shape(ds)"
   ]
  },
  {
   "cell_type": "code",
   "execution_count": 54,
   "id": "80756091",
   "metadata": {},
   "outputs": [
    {
     "name": "stdout",
     "output_type": "stream",
     "text": [
      "0.21\n"
     ]
    },
    {
     "data": {
      "text/plain": [
       "'0.21'"
      ]
     },
     "execution_count": 54,
     "metadata": {},
     "output_type": "execute_result"
    }
   ],
   "source": [
    "get_missing_data_fraction(ds)"
   ]
  },
  {
   "cell_type": "code",
   "execution_count": 55,
   "id": "75ce7ebf",
   "metadata": {},
   "outputs": [
    {
     "name": "stdout",
     "output_type": "stream",
     "text": [
      "Самый частый тип данных: object\n"
     ]
    },
    {
     "data": {
      "text/plain": [
       "'object'"
      ]
     },
     "execution_count": 55,
     "metadata": {},
     "output_type": "execute_result"
    }
   ],
   "source": [
    "get_most_common_dtype(ds)"
   ]
  }
 ],
 "metadata": {
  "kernelspec": {
   "display_name": ".venv",
   "language": "python",
   "name": "python3"
  },
  "language_info": {
   "codemirror_mode": {
    "name": "ipython",
    "version": 3
   },
   "file_extension": ".py",
   "mimetype": "text/x-python",
   "name": "python",
   "nbconvert_exporter": "python",
   "pygments_lexer": "ipython3",
   "version": "3.12.8"
  }
 },
 "nbformat": 4,
 "nbformat_minor": 5
}
