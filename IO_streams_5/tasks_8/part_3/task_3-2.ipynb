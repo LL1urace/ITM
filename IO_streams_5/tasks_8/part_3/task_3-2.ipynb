{
 "cells": [
  {
   "cell_type": "markdown",
   "id": "38d82fee",
   "metadata": {},
   "source": [
    "Вам дан датасет. По нему, найдите:\n",
    "\n",
    "1) Значение 'Avg. Session Length' у человека с максимальным значением 'Time on App'\n",
    "2) Коэффициент корреляции Спирмэна между столбцами 'Yearly Amount Spent' и 'Length of Membership'\n",
    "3) Значение 'Length of Membership', ниже которого находится 40% всех значений \n",
    "\n",
    "Все ответы округлите до сотых, в качестве разделителя используйте точку. В поле для ответа запишите ответы на вопросы сверху, разделенные символом «;». Если ответы равны 13.544231, 0.5325533 и 54.43678, то ответ должен выглядеть так: «13.54;0.53;54.44»"
   ]
  },
  {
   "cell_type": "code",
   "execution_count": 27,
   "id": "01bc2268",
   "metadata": {},
   "outputs": [
    {
     "name": "stdout",
     "output_type": "stream",
     "text": [
      "e:\\Учёба\\Для проектиков по IT\\ITM\\5_IO_streams\n",
      "e:\\Учёба\\Для проектиков по IT\\ITM\\5_IO_streams\\files\\task_8\\3.2.1.csv\n"
     ]
    }
   ],
   "source": [
    "import pandas as pd\n",
    "import pathlib\n",
    "import scipy\n",
    "\n",
    "work_path = pathlib.Path.cwd().parent.parent\n",
    "data_path = pathlib.Path(work_path, 'files/task_8', \"3.2.1.csv\")\n",
    "print(work_path)\n",
    "print(data_path)\n",
    "ds = pd.read_csv(data_path)"
   ]
  },
  {
   "cell_type": "code",
   "execution_count": 28,
   "id": "c72138e9",
   "metadata": {},
   "outputs": [],
   "source": [
    "def get_avg_session_length_max_time_on_app(data) -> float:\n",
    "    \"\"\"Находит значение 'Avg. Session Length' у человека с максимальным значением 'Time on App'.\n",
    "    Ответ округлен до сотых.\"\"\"\n",
    "    max_time_index = data['Time on App'].idxmax()\n",
    "    max_value = data.loc[max_time_index, 'Avg. Session Length']\n",
    "    return round(max_value, 2)\n",
    "\n",
    "def spearman_correlation_yearly_spent_membership_length(data) -> float:\n",
    "    \"\"\"Находит коэффициент корреляции Спирмэна между столбцами 'Yearly Amount Spent' и 'Length of Membership'.\n",
    "    Ответ округлен до сотых.\"\"\"\n",
    "    spearman_cf = data['Yearly Amount Spent'].corr(data['Length of Membership'], method='spearman')\n",
    "    return round(spearman_cf, 2)\n",
    "\n",
    "\n",
    "def get_40th_percentile_membership_length(data) -> float:\n",
    "    \"\"\"Находит значение 'Length of Membership', ниже которого находится 40% всех значений.\"\"\"\n",
    "    quant40 = data['Length of Membership'].quantile(0.40)\n",
    "    return round(quant40, 2)"
   ]
  },
  {
   "cell_type": "code",
   "execution_count": 29,
   "id": "eac464b2",
   "metadata": {},
   "outputs": [
    {
     "name": "stdout",
     "output_type": "stream",
     "text": [
      "34.37;0.78;3.32\n"
     ]
    }
   ],
   "source": [
    "v1 = get_avg_session_length_max_time_on_app(ds)\n",
    "v2 = spearman_correlation_yearly_spent_membership_length(ds)\n",
    "v3 = get_40th_percentile_membership_length(ds)\n",
    "\n",
    "print(f\"{v1};{v2};{v3}\") # "
   ]
  }
 ],
 "metadata": {
  "kernelspec": {
   "display_name": ".venv",
   "language": "python",
   "name": "python3"
  },
  "language_info": {
   "codemirror_mode": {
    "name": "ipython",
    "version": 3
   },
   "file_extension": ".py",
   "mimetype": "text/x-python",
   "name": "python",
   "nbconvert_exporter": "python",
   "pygments_lexer": "ipython3",
   "version": "3.12.8"
  }
 },
 "nbformat": 4,
 "nbformat_minor": 5
}
